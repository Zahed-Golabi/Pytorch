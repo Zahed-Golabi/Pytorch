{
  "cells": [
    {
      "cell_type": "markdown",
      "source": [
        "# GPU for pytorch"
      ],
      "metadata": {
        "id": "fpeEsWgiN_DY"
      },
      "id": "fpeEsWgiN_DY"
    },
    {
      "cell_type": "code",
      "execution_count": 1,
      "id": "56ebc064",
      "metadata": {
        "id": "56ebc064"
      },
      "outputs": [],
      "source": [
        "import torch"
      ]
    },
    {
      "cell_type": "code",
      "execution_count": 2,
      "id": "19fbb6cf",
      "metadata": {
        "id": "19fbb6cf",
        "outputId": "8cc8920c-5f2b-4f90-80a4-ab251c135fbd",
        "colab": {
          "base_uri": "https://localhost:8080/"
        }
      },
      "outputs": [
        {
          "output_type": "execute_result",
          "data": {
            "text/plain": [
              "True"
            ]
          },
          "metadata": {},
          "execution_count": 2
        }
      ],
      "source": [
        "torch.cuda.is_available()"
      ]
    },
    {
      "cell_type": "code",
      "source": [
        "torch.cuda.current_device()"
      ],
      "metadata": {
        "id": "Ju2iUiWmMRY3",
        "outputId": "94db1905-3863-4ae1-addb-b7df360a66a9",
        "colab": {
          "base_uri": "https://localhost:8080/"
        }
      },
      "id": "Ju2iUiWmMRY3",
      "execution_count": 3,
      "outputs": [
        {
          "output_type": "execute_result",
          "data": {
            "text/plain": [
              "0"
            ]
          },
          "metadata": {},
          "execution_count": 3
        }
      ]
    },
    {
      "cell_type": "code",
      "source": [
        "torch.cuda.get_device_name()"
      ],
      "metadata": {
        "id": "G9ko9UruMade",
        "outputId": "baf1749d-fd33-4bb1-c8c5-d4a501a34629",
        "colab": {
          "base_uri": "https://localhost:8080/",
          "height": 35
        }
      },
      "id": "G9ko9UruMade",
      "execution_count": 5,
      "outputs": [
        {
          "output_type": "execute_result",
          "data": {
            "text/plain": [
              "'Tesla T4'"
            ],
            "application/vnd.google.colaboratory.intrinsic+json": {
              "type": "string"
            }
          },
          "metadata": {},
          "execution_count": 5
        }
      ]
    },
    {
      "cell_type": "code",
      "source": [
        "torch.cuda.memory_allocated()"
      ],
      "metadata": {
        "id": "nZBYM0OCMirL",
        "outputId": "4b0634cc-8978-4ef1-d742-652f78e765b6",
        "colab": {
          "base_uri": "https://localhost:8080/"
        }
      },
      "id": "nZBYM0OCMirL",
      "execution_count": 6,
      "outputs": [
        {
          "output_type": "execute_result",
          "data": {
            "text/plain": [
              "0"
            ]
          },
          "metadata": {},
          "execution_count": 6
        }
      ]
    },
    {
      "cell_type": "code",
      "source": [
        "torch.cuda.memory_cached()"
      ],
      "metadata": {
        "id": "KncpA_3YMwxG",
        "outputId": "a70aea60-2fba-4974-a808-35a8fa7263b6",
        "colab": {
          "base_uri": "https://localhost:8080/"
        }
      },
      "id": "KncpA_3YMwxG",
      "execution_count": 7,
      "outputs": [
        {
          "output_type": "stream",
          "name": "stderr",
          "text": [
            "/usr/local/lib/python3.10/dist-packages/torch/cuda/memory.py:416: FutureWarning: torch.cuda.memory_cached has been renamed to torch.cuda.memory_reserved\n",
            "  warnings.warn(\n"
          ]
        },
        {
          "output_type": "execute_result",
          "data": {
            "text/plain": [
              "0"
            ]
          },
          "metadata": {},
          "execution_count": 7
        }
      ]
    },
    {
      "cell_type": "code",
      "source": [
        "a = torch.FloatTensor([1.0, 2.0])"
      ],
      "metadata": {
        "id": "dixHnFmQNDlM"
      },
      "id": "dixHnFmQNDlM",
      "execution_count": 8,
      "outputs": []
    },
    {
      "cell_type": "code",
      "source": [
        "a"
      ],
      "metadata": {
        "id": "oz-e2ZyeNKsa",
        "outputId": "09865202-7129-4abe-ed9e-c77e82c607de",
        "colab": {
          "base_uri": "https://localhost:8080/"
        }
      },
      "id": "oz-e2ZyeNKsa",
      "execution_count": 9,
      "outputs": [
        {
          "output_type": "execute_result",
          "data": {
            "text/plain": [
              "tensor([1., 2.])"
            ]
          },
          "metadata": {},
          "execution_count": 9
        }
      ]
    },
    {
      "cell_type": "code",
      "source": [
        "a.device"
      ],
      "metadata": {
        "id": "9vgXbvxDNL9N",
        "outputId": "022dc9ae-d4b5-4c87-ebc5-d9143636c962",
        "colab": {
          "base_uri": "https://localhost:8080/"
        }
      },
      "id": "9vgXbvxDNL9N",
      "execution_count": 10,
      "outputs": [
        {
          "output_type": "execute_result",
          "data": {
            "text/plain": [
              "device(type='cpu')"
            ]
          },
          "metadata": {},
          "execution_count": 10
        }
      ]
    },
    {
      "cell_type": "markdown",
      "source": [
        "## Use GPU and CUDA"
      ],
      "metadata": {
        "id": "OsfcJsweNRs0"
      },
      "id": "OsfcJsweNRs0"
    },
    {
      "cell_type": "code",
      "source": [
        "a = torch.FloatTensor([1.0, 2.0]).cuda()"
      ],
      "metadata": {
        "id": "aTzHSBUtNOkO"
      },
      "id": "aTzHSBUtNOkO",
      "execution_count": 12,
      "outputs": []
    },
    {
      "cell_type": "code",
      "source": [
        "a.device"
      ],
      "metadata": {
        "id": "TeXOzzQZNkoy",
        "outputId": "97d9b2c8-185b-430f-ad41-821c2ec5c784",
        "colab": {
          "base_uri": "https://localhost:8080/"
        }
      },
      "id": "TeXOzzQZNkoy",
      "execution_count": 13,
      "outputs": [
        {
          "output_type": "execute_result",
          "data": {
            "text/plain": [
              "device(type='cuda', index=0)"
            ]
          },
          "metadata": {},
          "execution_count": 13
        }
      ]
    },
    {
      "cell_type": "code",
      "source": [
        "torch.cuda.memory_allocated()"
      ],
      "metadata": {
        "id": "3MXVeTGJNnbl",
        "outputId": "1cd3c408-9fb1-4da4-ac88-18bda77254f7",
        "colab": {
          "base_uri": "https://localhost:8080/"
        }
      },
      "id": "3MXVeTGJNnbl",
      "execution_count": 14,
      "outputs": [
        {
          "output_type": "execute_result",
          "data": {
            "text/plain": [
              "512"
            ]
          },
          "metadata": {},
          "execution_count": 14
        }
      ]
    },
    {
      "cell_type": "markdown",
      "source": [
        "## Imports"
      ],
      "metadata": {
        "id": "3mqBV3QeOFAW"
      },
      "id": "3mqBV3QeOFAW"
    },
    {
      "cell_type": "code",
      "source": [
        "import torch.nn as nn\n",
        "import torch.nn.functional as F\n",
        "from torch.utils.data import Dataset, DataLoader\n",
        "from sklearn.model_selection import train_test_split\n",
        "\n",
        "import numpy as np\n",
        "import pandas as pd\n",
        "import matplotlib.pyplot as plt\n",
        "%matplotlib inline"
      ],
      "metadata": {
        "id": "_MYCHF7UNz6N"
      },
      "id": "_MYCHF7UNz6N",
      "execution_count": 18,
      "outputs": []
    },
    {
      "cell_type": "markdown",
      "source": [
        "## Creating Model"
      ],
      "metadata": {
        "id": "e8UsxTCSOl2D"
      },
      "id": "e8UsxTCSOl2D"
    },
    {
      "cell_type": "code",
      "source": [
        "class Model(nn.Module):\n",
        "\n",
        "  def __init__(self, in_features=4, h1=8, h2=9, out_features=3):\n",
        "    super().__init__()\n",
        "    self.fc1 = nn.Linear(in_features, h1)    # input leayer\n",
        "    self.fc2 = nn.Linear(h1, h2)             # hidden layer\n",
        "    self.out = nn.Linear(h2, out_features)   # output layer\n",
        "\n",
        "  def forward(self, X):\n",
        "    X = F.relu(self.fc1(X))\n",
        "    X = F.relu(self.fc2(X))\n",
        "    X = self.out(X)\n",
        "    return X"
      ],
      "metadata": {
        "id": "wzWIC0VcOc0P"
      },
      "id": "wzWIC0VcOc0P",
      "execution_count": 19,
      "outputs": []
    },
    {
      "cell_type": "code",
      "source": [],
      "metadata": {
        "id": "_IuuKEkrP6Vn"
      },
      "id": "_IuuKEkrP6Vn",
      "execution_count": null,
      "outputs": []
    }
  ],
  "metadata": {
    "kernelspec": {
      "display_name": "Python 3",
      "name": "python3"
    },
    "language_info": {
      "codemirror_mode": {
        "name": "ipython",
        "version": 3
      },
      "file_extension": ".py",
      "mimetype": "text/x-python",
      "name": "python",
      "nbconvert_exporter": "python",
      "pygments_lexer": "ipython3",
      "version": "3.9.12"
    },
    "colab": {
      "provenance": [],
      "gpuType": "T4"
    },
    "accelerator": "GPU"
  },
  "nbformat": 4,
  "nbformat_minor": 5
}