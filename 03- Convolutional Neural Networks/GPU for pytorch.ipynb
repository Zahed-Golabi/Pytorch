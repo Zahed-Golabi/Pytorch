{
  "cells": [
    {
      "cell_type": "markdown",
      "source": [
        "# GPU for pytorch"
      ],
      "metadata": {
        "id": "fpeEsWgiN_DY"
      },
      "id": "fpeEsWgiN_DY"
    },
    {
      "cell_type": "code",
      "execution_count": 1,
      "id": "56ebc064",
      "metadata": {
        "id": "56ebc064"
      },
      "outputs": [],
      "source": [
        "import torch"
      ]
    },
    {
      "cell_type": "code",
      "execution_count": 2,
      "id": "19fbb6cf",
      "metadata": {
        "colab": {
          "base_uri": "https://localhost:8080/"
        },
        "id": "19fbb6cf",
        "outputId": "1ec671c7-e8d0-42bf-8058-47cdca7bc8f5"
      },
      "outputs": [
        {
          "output_type": "execute_result",
          "data": {
            "text/plain": [
              "True"
            ]
          },
          "metadata": {},
          "execution_count": 2
        }
      ],
      "source": [
        "torch.cuda.is_available()"
      ]
    },
    {
      "cell_type": "code",
      "source": [
        "torch.cuda.current_device()"
      ],
      "metadata": {
        "colab": {
          "base_uri": "https://localhost:8080/"
        },
        "id": "Ju2iUiWmMRY3",
        "outputId": "53f14a62-4c45-4578-9f2e-266d7638c567"
      },
      "id": "Ju2iUiWmMRY3",
      "execution_count": 3,
      "outputs": [
        {
          "output_type": "execute_result",
          "data": {
            "text/plain": [
              "0"
            ]
          },
          "metadata": {},
          "execution_count": 3
        }
      ]
    },
    {
      "cell_type": "code",
      "source": [
        "torch.cuda.get_device_name()"
      ],
      "metadata": {
        "colab": {
          "base_uri": "https://localhost:8080/",
          "height": 35
        },
        "id": "G9ko9UruMade",
        "outputId": "c581ab74-1796-4fcd-cc68-3df1da5eb9d3"
      },
      "id": "G9ko9UruMade",
      "execution_count": 4,
      "outputs": [
        {
          "output_type": "execute_result",
          "data": {
            "text/plain": [
              "'Tesla T4'"
            ],
            "application/vnd.google.colaboratory.intrinsic+json": {
              "type": "string"
            }
          },
          "metadata": {},
          "execution_count": 4
        }
      ]
    },
    {
      "cell_type": "code",
      "source": [
        "torch.cuda.memory_allocated()"
      ],
      "metadata": {
        "colab": {
          "base_uri": "https://localhost:8080/"
        },
        "id": "nZBYM0OCMirL",
        "outputId": "075e983c-5706-4fdd-ca4b-263a7d391788"
      },
      "id": "nZBYM0OCMirL",
      "execution_count": 5,
      "outputs": [
        {
          "output_type": "execute_result",
          "data": {
            "text/plain": [
              "0"
            ]
          },
          "metadata": {},
          "execution_count": 5
        }
      ]
    },
    {
      "cell_type": "code",
      "source": [
        "torch.cuda.memory_cached()"
      ],
      "metadata": {
        "colab": {
          "base_uri": "https://localhost:8080/"
        },
        "id": "KncpA_3YMwxG",
        "outputId": "75a80d62-110c-48a9-a61a-65b1515668ea"
      },
      "id": "KncpA_3YMwxG",
      "execution_count": 6,
      "outputs": [
        {
          "output_type": "stream",
          "name": "stderr",
          "text": [
            "/usr/local/lib/python3.10/dist-packages/torch/cuda/memory.py:416: FutureWarning: torch.cuda.memory_cached has been renamed to torch.cuda.memory_reserved\n",
            "  warnings.warn(\n"
          ]
        },
        {
          "output_type": "execute_result",
          "data": {
            "text/plain": [
              "0"
            ]
          },
          "metadata": {},
          "execution_count": 6
        }
      ]
    },
    {
      "cell_type": "code",
      "source": [
        "a = torch.FloatTensor([1.0, 2.0])"
      ],
      "metadata": {
        "id": "dixHnFmQNDlM"
      },
      "id": "dixHnFmQNDlM",
      "execution_count": 7,
      "outputs": []
    },
    {
      "cell_type": "code",
      "source": [
        "a"
      ],
      "metadata": {
        "colab": {
          "base_uri": "https://localhost:8080/"
        },
        "id": "oz-e2ZyeNKsa",
        "outputId": "04a81001-b8ef-414f-9fcc-e5a5f6276e9a"
      },
      "id": "oz-e2ZyeNKsa",
      "execution_count": 8,
      "outputs": [
        {
          "output_type": "execute_result",
          "data": {
            "text/plain": [
              "tensor([1., 2.])"
            ]
          },
          "metadata": {},
          "execution_count": 8
        }
      ]
    },
    {
      "cell_type": "code",
      "source": [
        "a.device"
      ],
      "metadata": {
        "colab": {
          "base_uri": "https://localhost:8080/"
        },
        "id": "9vgXbvxDNL9N",
        "outputId": "728b1c26-d810-46ad-ffae-79c65364fe46"
      },
      "id": "9vgXbvxDNL9N",
      "execution_count": 9,
      "outputs": [
        {
          "output_type": "execute_result",
          "data": {
            "text/plain": [
              "device(type='cpu')"
            ]
          },
          "metadata": {},
          "execution_count": 9
        }
      ]
    },
    {
      "cell_type": "markdown",
      "source": [
        "## Use GPU and CUDA"
      ],
      "metadata": {
        "id": "OsfcJsweNRs0"
      },
      "id": "OsfcJsweNRs0"
    },
    {
      "cell_type": "code",
      "source": [
        "a = torch.FloatTensor([1.0, 2.0]).cuda()"
      ],
      "metadata": {
        "id": "aTzHSBUtNOkO"
      },
      "id": "aTzHSBUtNOkO",
      "execution_count": 10,
      "outputs": []
    },
    {
      "cell_type": "code",
      "source": [
        "a.device"
      ],
      "metadata": {
        "colab": {
          "base_uri": "https://localhost:8080/"
        },
        "id": "TeXOzzQZNkoy",
        "outputId": "82f752f4-1eae-4590-e6d6-184eaef1ff92"
      },
      "id": "TeXOzzQZNkoy",
      "execution_count": 11,
      "outputs": [
        {
          "output_type": "execute_result",
          "data": {
            "text/plain": [
              "device(type='cuda', index=0)"
            ]
          },
          "metadata": {},
          "execution_count": 11
        }
      ]
    },
    {
      "cell_type": "code",
      "source": [
        "torch.cuda.memory_allocated()"
      ],
      "metadata": {
        "colab": {
          "base_uri": "https://localhost:8080/"
        },
        "id": "3MXVeTGJNnbl",
        "outputId": "b484d5f7-cf86-4af2-bb81-3b7695562253"
      },
      "id": "3MXVeTGJNnbl",
      "execution_count": 12,
      "outputs": [
        {
          "output_type": "execute_result",
          "data": {
            "text/plain": [
              "512"
            ]
          },
          "metadata": {},
          "execution_count": 12
        }
      ]
    },
    {
      "cell_type": "markdown",
      "source": [
        "## Imports"
      ],
      "metadata": {
        "id": "3mqBV3QeOFAW"
      },
      "id": "3mqBV3QeOFAW"
    },
    {
      "cell_type": "code",
      "source": [
        "import torch.nn as nn\n",
        "import torch.nn.functional as F\n",
        "from torch.utils.data import Dataset, DataLoader\n",
        "from sklearn.model_selection import train_test_split\n",
        "\n",
        "import numpy as np\n",
        "import pandas as pd\n",
        "import matplotlib.pyplot as plt\n",
        "%matplotlib inline"
      ],
      "metadata": {
        "id": "_MYCHF7UNz6N"
      },
      "id": "_MYCHF7UNz6N",
      "execution_count": 13,
      "outputs": []
    },
    {
      "cell_type": "markdown",
      "source": [
        "## Creating Model"
      ],
      "metadata": {
        "id": "e8UsxTCSOl2D"
      },
      "id": "e8UsxTCSOl2D"
    },
    {
      "cell_type": "code",
      "source": [
        "class Model(nn.Module):\n",
        "\n",
        "  def __init__(self, in_features=4, h1=8, h2=9, out_features=3):\n",
        "    super().__init__()\n",
        "    self.fc1 = nn.Linear(in_features, h1)    # input leayer\n",
        "    self.fc2 = nn.Linear(h1, h2)             # hidden layer\n",
        "    self.out = nn.Linear(h2, out_features)   # output layer\n",
        "\n",
        "  def forward(self, X):\n",
        "    X = F.relu(self.fc1(X))\n",
        "    X = F.relu(self.fc2(X))\n",
        "    X = self.out(X)\n",
        "    return X"
      ],
      "metadata": {
        "id": "wzWIC0VcOc0P"
      },
      "id": "wzWIC0VcOc0P",
      "execution_count": 37,
      "outputs": []
    },
    {
      "cell_type": "code",
      "source": [
        "model = Model()"
      ],
      "metadata": {
        "id": "_IuuKEkrP6Vn"
      },
      "id": "_IuuKEkrP6Vn",
      "execution_count": 38,
      "outputs": []
    },
    {
      "cell_type": "code",
      "source": [
        "# our model is not on gpu\n",
        "next(model.parameters()).is_cuda"
      ],
      "metadata": {
        "colab": {
          "base_uri": "https://localhost:8080/"
        },
        "id": "4FYK-_kuQHtb",
        "outputId": "f82612bf-22ee-4e6e-9b7a-49626379c39d"
      },
      "id": "4FYK-_kuQHtb",
      "execution_count": 39,
      "outputs": [
        {
          "output_type": "execute_result",
          "data": {
            "text/plain": [
              "False"
            ]
          },
          "metadata": {},
          "execution_count": 39
        }
      ]
    },
    {
      "cell_type": "code",
      "source": [],
      "metadata": {
        "id": "OxABwVO0QnGE"
      },
      "id": "OxABwVO0QnGE",
      "execution_count": 39,
      "outputs": []
    },
    {
      "cell_type": "markdown",
      "source": [
        "### store on gpu"
      ],
      "metadata": {
        "id": "T3D9mtWHQpjo"
      },
      "id": "T3D9mtWHQpjo"
    },
    {
      "cell_type": "code",
      "source": [
        "gpumodel = model.cuda()"
      ],
      "metadata": {
        "id": "iRHWwAHYQTNk"
      },
      "id": "iRHWwAHYQTNk",
      "execution_count": 40,
      "outputs": []
    },
    {
      "cell_type": "code",
      "source": [
        "next(gpumodel.parameters()).is_cuda"
      ],
      "metadata": {
        "colab": {
          "base_uri": "https://localhost:8080/"
        },
        "id": "6tumGzTSQlU6",
        "outputId": "bcf9aeca-84bd-4d0e-dc6a-4da8867e1ff2"
      },
      "id": "6tumGzTSQlU6",
      "execution_count": 41,
      "outputs": [
        {
          "output_type": "execute_result",
          "data": {
            "text/plain": [
              "True"
            ]
          },
          "metadata": {},
          "execution_count": 41
        }
      ]
    },
    {
      "cell_type": "markdown",
      "source": [
        "#### IRIS Dataset"
      ],
      "metadata": {
        "id": "eh8X5rLmRVjv"
      },
      "id": "eh8X5rLmRVjv"
    },
    {
      "cell_type": "code",
      "source": [
        "from sklearn.datasets import load_iris"
      ],
      "metadata": {
        "id": "JBNaPcPxQ_zn"
      },
      "id": "JBNaPcPxQ_zn",
      "execution_count": 42,
      "outputs": []
    },
    {
      "cell_type": "code",
      "source": [
        "iris = load_iris()\n",
        "df = pd.DataFrame(iris.data, columns = iris.feature_names)"
      ],
      "metadata": {
        "id": "f2Nt3PUJRuqP"
      },
      "id": "f2Nt3PUJRuqP",
      "execution_count": 43,
      "outputs": []
    },
    {
      "cell_type": "code",
      "source": [
        "df['target'] = iris.target"
      ],
      "metadata": {
        "id": "TcTeGlkcSIIv"
      },
      "id": "TcTeGlkcSIIv",
      "execution_count": 44,
      "outputs": []
    },
    {
      "cell_type": "code",
      "source": [
        "df.head(3)"
      ],
      "metadata": {
        "colab": {
          "base_uri": "https://localhost:8080/",
          "height": 143
        },
        "id": "IaaxJIoQSNOw",
        "outputId": "bc8a16c0-0650-4596-9dc3-6119a7bf033c"
      },
      "id": "IaaxJIoQSNOw",
      "execution_count": 45,
      "outputs": [
        {
          "output_type": "execute_result",
          "data": {
            "text/plain": [
              "   sepal length (cm)  sepal width (cm)  petal length (cm)  petal width (cm)  \\\n",
              "0                5.1               3.5                1.4               0.2   \n",
              "1                4.9               3.0                1.4               0.2   \n",
              "2                4.7               3.2                1.3               0.2   \n",
              "\n",
              "   target  \n",
              "0       0  \n",
              "1       0  \n",
              "2       0  "
            ],
            "text/html": [
              "\n",
              "\n",
              "  <div id=\"df-0ea562ee-b2b9-4dd4-887b-89db2191d59b\">\n",
              "    <div class=\"colab-df-container\">\n",
              "      <div>\n",
              "<style scoped>\n",
              "    .dataframe tbody tr th:only-of-type {\n",
              "        vertical-align: middle;\n",
              "    }\n",
              "\n",
              "    .dataframe tbody tr th {\n",
              "        vertical-align: top;\n",
              "    }\n",
              "\n",
              "    .dataframe thead th {\n",
              "        text-align: right;\n",
              "    }\n",
              "</style>\n",
              "<table border=\"1\" class=\"dataframe\">\n",
              "  <thead>\n",
              "    <tr style=\"text-align: right;\">\n",
              "      <th></th>\n",
              "      <th>sepal length (cm)</th>\n",
              "      <th>sepal width (cm)</th>\n",
              "      <th>petal length (cm)</th>\n",
              "      <th>petal width (cm)</th>\n",
              "      <th>target</th>\n",
              "    </tr>\n",
              "  </thead>\n",
              "  <tbody>\n",
              "    <tr>\n",
              "      <th>0</th>\n",
              "      <td>5.1</td>\n",
              "      <td>3.5</td>\n",
              "      <td>1.4</td>\n",
              "      <td>0.2</td>\n",
              "      <td>0</td>\n",
              "    </tr>\n",
              "    <tr>\n",
              "      <th>1</th>\n",
              "      <td>4.9</td>\n",
              "      <td>3.0</td>\n",
              "      <td>1.4</td>\n",
              "      <td>0.2</td>\n",
              "      <td>0</td>\n",
              "    </tr>\n",
              "    <tr>\n",
              "      <th>2</th>\n",
              "      <td>4.7</td>\n",
              "      <td>3.2</td>\n",
              "      <td>1.3</td>\n",
              "      <td>0.2</td>\n",
              "      <td>0</td>\n",
              "    </tr>\n",
              "  </tbody>\n",
              "</table>\n",
              "</div>\n",
              "      <button class=\"colab-df-convert\" onclick=\"convertToInteractive('df-0ea562ee-b2b9-4dd4-887b-89db2191d59b')\"\n",
              "              title=\"Convert this dataframe to an interactive table.\"\n",
              "              style=\"display:none;\">\n",
              "\n",
              "  <svg xmlns=\"http://www.w3.org/2000/svg\" height=\"24px\"viewBox=\"0 0 24 24\"\n",
              "       width=\"24px\">\n",
              "    <path d=\"M0 0h24v24H0V0z\" fill=\"none\"/>\n",
              "    <path d=\"M18.56 5.44l.94 2.06.94-2.06 2.06-.94-2.06-.94-.94-2.06-.94 2.06-2.06.94zm-11 1L8.5 8.5l.94-2.06 2.06-.94-2.06-.94L8.5 2.5l-.94 2.06-2.06.94zm10 10l.94 2.06.94-2.06 2.06-.94-2.06-.94-.94-2.06-.94 2.06-2.06.94z\"/><path d=\"M17.41 7.96l-1.37-1.37c-.4-.4-.92-.59-1.43-.59-.52 0-1.04.2-1.43.59L10.3 9.45l-7.72 7.72c-.78.78-.78 2.05 0 2.83L4 21.41c.39.39.9.59 1.41.59.51 0 1.02-.2 1.41-.59l7.78-7.78 2.81-2.81c.8-.78.8-2.07 0-2.86zM5.41 20L4 18.59l7.72-7.72 1.47 1.35L5.41 20z\"/>\n",
              "  </svg>\n",
              "      </button>\n",
              "\n",
              "\n",
              "\n",
              "    <div id=\"df-218ae60c-6b65-47e6-8c96-6912a6ab67dd\">\n",
              "      <button class=\"colab-df-quickchart\" onclick=\"quickchart('df-218ae60c-6b65-47e6-8c96-6912a6ab67dd')\"\n",
              "              title=\"Suggest charts.\"\n",
              "              style=\"display:none;\">\n",
              "\n",
              "<svg xmlns=\"http://www.w3.org/2000/svg\" height=\"24px\"viewBox=\"0 0 24 24\"\n",
              "     width=\"24px\">\n",
              "    <g>\n",
              "        <path d=\"M19 3H5c-1.1 0-2 .9-2 2v14c0 1.1.9 2 2 2h14c1.1 0 2-.9 2-2V5c0-1.1-.9-2-2-2zM9 17H7v-7h2v7zm4 0h-2V7h2v10zm4 0h-2v-4h2v4z\"/>\n",
              "    </g>\n",
              "</svg>\n",
              "      </button>\n",
              "    </div>\n",
              "\n",
              "<style>\n",
              "  .colab-df-quickchart {\n",
              "    background-color: #E8F0FE;\n",
              "    border: none;\n",
              "    border-radius: 50%;\n",
              "    cursor: pointer;\n",
              "    display: none;\n",
              "    fill: #1967D2;\n",
              "    height: 32px;\n",
              "    padding: 0 0 0 0;\n",
              "    width: 32px;\n",
              "  }\n",
              "\n",
              "  .colab-df-quickchart:hover {\n",
              "    background-color: #E2EBFA;\n",
              "    box-shadow: 0px 1px 2px rgba(60, 64, 67, 0.3), 0px 1px 3px 1px rgba(60, 64, 67, 0.15);\n",
              "    fill: #174EA6;\n",
              "  }\n",
              "\n",
              "  [theme=dark] .colab-df-quickchart {\n",
              "    background-color: #3B4455;\n",
              "    fill: #D2E3FC;\n",
              "  }\n",
              "\n",
              "  [theme=dark] .colab-df-quickchart:hover {\n",
              "    background-color: #434B5C;\n",
              "    box-shadow: 0px 1px 3px 1px rgba(0, 0, 0, 0.15);\n",
              "    filter: drop-shadow(0px 1px 2px rgba(0, 0, 0, 0.3));\n",
              "    fill: #FFFFFF;\n",
              "  }\n",
              "</style>\n",
              "\n",
              "    <script>\n",
              "      async function quickchart(key) {\n",
              "        const containerElement = document.querySelector('#' + key);\n",
              "        const charts = await google.colab.kernel.invokeFunction(\n",
              "            'suggestCharts', [key], {});\n",
              "      }\n",
              "    </script>\n",
              "\n",
              "      <script>\n",
              "\n",
              "function displayQuickchartButton(domScope) {\n",
              "  let quickchartButtonEl =\n",
              "    domScope.querySelector('#df-218ae60c-6b65-47e6-8c96-6912a6ab67dd button.colab-df-quickchart');\n",
              "  quickchartButtonEl.style.display =\n",
              "    google.colab.kernel.accessAllowed ? 'block' : 'none';\n",
              "}\n",
              "\n",
              "        displayQuickchartButton(document);\n",
              "      </script>\n",
              "      <style>\n",
              "    .colab-df-container {\n",
              "      display:flex;\n",
              "      flex-wrap:wrap;\n",
              "      gap: 12px;\n",
              "    }\n",
              "\n",
              "    .colab-df-convert {\n",
              "      background-color: #E8F0FE;\n",
              "      border: none;\n",
              "      border-radius: 50%;\n",
              "      cursor: pointer;\n",
              "      display: none;\n",
              "      fill: #1967D2;\n",
              "      height: 32px;\n",
              "      padding: 0 0 0 0;\n",
              "      width: 32px;\n",
              "    }\n",
              "\n",
              "    .colab-df-convert:hover {\n",
              "      background-color: #E2EBFA;\n",
              "      box-shadow: 0px 1px 2px rgba(60, 64, 67, 0.3), 0px 1px 3px 1px rgba(60, 64, 67, 0.15);\n",
              "      fill: #174EA6;\n",
              "    }\n",
              "\n",
              "    [theme=dark] .colab-df-convert {\n",
              "      background-color: #3B4455;\n",
              "      fill: #D2E3FC;\n",
              "    }\n",
              "\n",
              "    [theme=dark] .colab-df-convert:hover {\n",
              "      background-color: #434B5C;\n",
              "      box-shadow: 0px 1px 3px 1px rgba(0, 0, 0, 0.15);\n",
              "      filter: drop-shadow(0px 1px 2px rgba(0, 0, 0, 0.3));\n",
              "      fill: #FFFFFF;\n",
              "    }\n",
              "  </style>\n",
              "\n",
              "      <script>\n",
              "        const buttonEl =\n",
              "          document.querySelector('#df-0ea562ee-b2b9-4dd4-887b-89db2191d59b button.colab-df-convert');\n",
              "        buttonEl.style.display =\n",
              "          google.colab.kernel.accessAllowed ? 'block' : 'none';\n",
              "\n",
              "        async function convertToInteractive(key) {\n",
              "          const element = document.querySelector('#df-0ea562ee-b2b9-4dd4-887b-89db2191d59b');\n",
              "          const dataTable =\n",
              "            await google.colab.kernel.invokeFunction('convertToInteractive',\n",
              "                                                     [key], {});\n",
              "          if (!dataTable) return;\n",
              "\n",
              "          const docLinkHtml = 'Like what you see? Visit the ' +\n",
              "            '<a target=\"_blank\" href=https://colab.research.google.com/notebooks/data_table.ipynb>data table notebook</a>'\n",
              "            + ' to learn more about interactive tables.';\n",
              "          element.innerHTML = '';\n",
              "          dataTable['output_type'] = 'display_data';\n",
              "          await google.colab.output.renderOutput(dataTable, element);\n",
              "          const docLink = document.createElement('div');\n",
              "          docLink.innerHTML = docLinkHtml;\n",
              "          element.appendChild(docLink);\n",
              "        }\n",
              "      </script>\n",
              "    </div>\n",
              "  </div>\n"
            ]
          },
          "metadata": {},
          "execution_count": 45
        }
      ]
    },
    {
      "cell_type": "code",
      "source": [
        "X = df.drop(\"target\", axis=1).values"
      ],
      "metadata": {
        "id": "IrgDAah1STn_"
      },
      "id": "IrgDAah1STn_",
      "execution_count": 46,
      "outputs": []
    },
    {
      "cell_type": "code",
      "source": [
        "y = df[\"target\"].values"
      ],
      "metadata": {
        "id": "3pniN2jjSeon"
      },
      "id": "3pniN2jjSeon",
      "execution_count": 47,
      "outputs": []
    },
    {
      "cell_type": "code",
      "source": [],
      "metadata": {
        "id": "y2Yk6TAWsDc9"
      },
      "id": "y2Yk6TAWsDc9",
      "execution_count": 47,
      "outputs": []
    },
    {
      "cell_type": "code",
      "source": [
        "X_train, X_test, y_train, y_test = train_test_split(X, y, test_size=0.2, random_state=42)"
      ],
      "metadata": {
        "id": "N2DhiIo_Slcu"
      },
      "id": "N2DhiIo_Slcu",
      "execution_count": 48,
      "outputs": []
    },
    {
      "cell_type": "code",
      "source": [
        "# gpu and cuda\n",
        "X_train = torch.Tensor(X_train).cuda()"
      ],
      "metadata": {
        "id": "nadNxEXFTMBC"
      },
      "id": "nadNxEXFTMBC",
      "execution_count": 49,
      "outputs": []
    },
    {
      "cell_type": "code",
      "source": [
        "X_test = torch.Tensor(X_test).cuda()"
      ],
      "metadata": {
        "id": "nfj8XqrXTmeX"
      },
      "id": "nfj8XqrXTmeX",
      "execution_count": 50,
      "outputs": []
    },
    {
      "cell_type": "code",
      "source": [
        "print(X_train.dtype)"
      ],
      "metadata": {
        "id": "blGSGSE8tRxX",
        "outputId": "e861d9b6-067d-4fc2-cda4-c1d0f278250a",
        "colab": {
          "base_uri": "https://localhost:8080/"
        }
      },
      "id": "blGSGSE8tRxX",
      "execution_count": 51,
      "outputs": [
        {
          "output_type": "stream",
          "name": "stdout",
          "text": [
            "torch.float32\n"
          ]
        }
      ]
    },
    {
      "cell_type": "code",
      "source": [
        "y_train = torch.Tensor(y_train).cuda()"
      ],
      "metadata": {
        "id": "F4q-jWdKTsSJ"
      },
      "id": "F4q-jWdKTsSJ",
      "execution_count": 52,
      "outputs": []
    },
    {
      "cell_type": "code",
      "source": [
        "y_test = torch.Tensor(y_test).cuda()"
      ],
      "metadata": {
        "id": "pMW7u7rHTxrD"
      },
      "id": "pMW7u7rHTxrD",
      "execution_count": 53,
      "outputs": []
    },
    {
      "cell_type": "code",
      "source": [
        "train_loader = DataLoader(X_train, batch_size=60, shuffle=True, pin_memory=True)\n",
        "test_loader = DataLoader(X_test, batch_size=60, shuffle=False, pin_memory=True)"
      ],
      "metadata": {
        "id": "2nf9VYthT3AY"
      },
      "id": "2nf9VYthT3AY",
      "execution_count": 54,
      "outputs": []
    },
    {
      "cell_type": "code",
      "source": [
        "criterion = nn.CrossEntropyLoss()\n",
        "optimizer = torch.optim.Adam(model.parameters(), lr=0.01)"
      ],
      "metadata": {
        "id": "kNloxYhgUsiI"
      },
      "id": "kNloxYhgUsiI",
      "execution_count": 55,
      "outputs": []
    },
    {
      "cell_type": "markdown",
      "source": [
        "## Train Model"
      ],
      "metadata": {
        "id": "goT7tvAeVL7x"
      },
      "id": "goT7tvAeVL7x"
    },
    {
      "cell_type": "code",
      "source": [
        "import time\n",
        "start_time = time.time()\n",
        "epochs = 100\n",
        "losses = []\n",
        "\n",
        "for i in range(epochs):\n",
        "\n",
        "  y_pred = gpumodel.forward(X_train)\n",
        "\n",
        "  y_train = y_train.long()\n",
        "  loss = criterion(y_pred, y_train)\n",
        "  losses.append(loss)\n",
        "\n",
        "  if i%10 == 0:\n",
        "    print(f\"Epoch: {i} Loss: {loss.item()}\")\n",
        "\n",
        "  optimizer.zero_grad()\n",
        "  loss.backward()\n",
        "  optimizer.step()\n",
        "\n",
        "\n",
        "\n",
        "end = time.time() - start_time\n",
        "print(f\"TOTAL TIME: \", {end})\n"
      ],
      "metadata": {
        "id": "Bf9Q3BFnU9vh",
        "outputId": "06f81e9f-6955-40ef-c2bc-6d3ae6dc6e21",
        "colab": {
          "base_uri": "https://localhost:8080/"
        }
      },
      "id": "Bf9Q3BFnU9vh",
      "execution_count": 56,
      "outputs": [
        {
          "output_type": "stream",
          "name": "stdout",
          "text": [
            "Epoch: 0 Loss: 1.3868739604949951\n",
            "Epoch: 10 Loss: 0.9827079772949219\n",
            "Epoch: 20 Loss: 0.7703072428703308\n",
            "Epoch: 30 Loss: 0.5199500918388367\n",
            "Epoch: 40 Loss: 0.34135475754737854\n",
            "Epoch: 50 Loss: 0.22576814889907837\n",
            "Epoch: 60 Loss: 0.14724616706371307\n",
            "Epoch: 70 Loss: 0.10403325408697128\n",
            "Epoch: 80 Loss: 0.08314085751771927\n",
            "Epoch: 90 Loss: 0.07274985313415527\n",
            "TOTAL TIME:  {0.1324176788330078}\n"
          ]
        }
      ]
    },
    {
      "cell_type": "code",
      "source": [
        "x = torch.tensor([1,2])"
      ],
      "metadata": {
        "id": "sYkuUgq2XcxD"
      },
      "id": "sYkuUgq2XcxD",
      "execution_count": 57,
      "outputs": []
    },
    {
      "cell_type": "code",
      "source": [
        "x.dtype"
      ],
      "metadata": {
        "id": "rJTNmVBkXf_i",
        "outputId": "8f5bbc64-4339-4897-8d3b-077d7ff498c3",
        "colab": {
          "base_uri": "https://localhost:8080/"
        }
      },
      "id": "rJTNmVBkXf_i",
      "execution_count": 58,
      "outputs": [
        {
          "output_type": "execute_result",
          "data": {
            "text/plain": [
              "torch.int64"
            ]
          },
          "metadata": {},
          "execution_count": 58
        }
      ]
    },
    {
      "cell_type": "markdown",
      "source": [
        "## Whole Dataset"
      ],
      "metadata": {
        "id": "c6Dae-N_4QZR"
      },
      "id": "c6Dae-N_4QZR"
    },
    {
      "cell_type": "code",
      "source": [
        "correct = 0\n",
        "with torch.no_grad():\n",
        "  for i, data in enumerate(X_test):\n",
        "    y_val = gpumodel.forward(data)\n",
        "    print(f\"{i+1:2}. {str(y_val):38} {y_test[i]}\")\n",
        "    if y_val.argmax().item() == y_test[i]:\n",
        "      correct += 1\n",
        "\n",
        "print(f\"\\n{correct} out of {len(y_test)} = {100*correct/len(y_test):.2f}% correct\")"
      ],
      "metadata": {
        "id": "kY0i8Wh84WB9",
        "outputId": "e719324b-b38a-40d7-e64c-dad47519fdc7",
        "colab": {
          "base_uri": "https://localhost:8080/"
        }
      },
      "id": "kY0i8Wh84WB9",
      "execution_count": 59,
      "outputs": [
        {
          "output_type": "stream",
          "name": "stdout",
          "text": [
            " 1. tensor([-3.3326,  3.5881, -0.4133], device='cuda:0') 1.0\n",
            " 2. tensor([  6.9964,   0.9022, -21.0897], device='cuda:0') 0.0\n",
            " 3. tensor([-8.9299,  4.0037, 13.8985], device='cuda:0') 2.0\n",
            " 4. tensor([-3.6043,  3.4670,  0.6857], device='cuda:0') 1.0\n",
            " 5. tensor([-3.8896,  3.8072,  0.5095], device='cuda:0') 1.0\n",
            " 6. tensor([  6.3214,   0.8818, -19.1658], device='cuda:0') 0.0\n",
            " 7. tensor([-1.4910,  2.9749, -3.7564], device='cuda:0') 1.0\n",
            " 8. tensor([-6.0531,  3.6344,  6.9918], device='cuda:0') 2.0\n",
            " 9. tensor([-4.6901,  3.3275,  4.0834], device='cuda:0') 1.0\n",
            "10. tensor([-2.1404,  3.2193, -2.6626], device='cuda:0') 1.0\n",
            "11. tensor([-5.2140,  3.6080,  4.7415], device='cuda:0') 2.0\n",
            "12. tensor([  6.1357,   0.7889, -18.4252], device='cuda:0') 0.0\n",
            "13. tensor([  7.0198,   0.8464, -21.0193], device='cuda:0') 0.0\n",
            "14. tensor([  6.2284,   0.8060, -18.7242], device='cuda:0') 0.0\n",
            "15. tensor([  6.9184,   0.7826, -20.5838], device='cuda:0') 0.0\n",
            "16. tensor([-3.4874,  3.6870, -0.2600], device='cuda:0') 1.0\n",
            "17. tensor([-7.1027,  3.4950, 10.2839], device='cuda:0') 2.0\n",
            "18. tensor([-2.2975,  3.1884, -2.1447], device='cuda:0') 1.0\n",
            "19. tensor([-3.3131,  3.3831,  0.1151], device='cuda:0') 1.0\n",
            "20. tensor([-7.0521,  3.4051, 10.3967], device='cuda:0') 2.0\n",
            "21. tensor([  6.0220,   0.7838, -18.0977], device='cuda:0') 0.0\n",
            "22. tensor([-4.7830,  3.4456,  4.0076], device='cuda:0') 2.0\n",
            "23. tensor([  6.0702,   0.8290, -18.3407], device='cuda:0') 0.0\n",
            "24. tensor([-6.8786,  3.4202,  9.8758], device='cuda:0') 2.0\n",
            "25. tensor([-6.1118,  4.4099,  4.9498], device='cuda:0') 2.0\n",
            "26. tensor([-6.3907,  3.5238,  8.2379], device='cuda:0') 2.0\n",
            "27. tensor([-6.9000,  3.5600,  9.5347], device='cuda:0') 2.0\n",
            "28. tensor([-7.1477,  3.6489,  9.9740], device='cuda:0') 2.0\n",
            "29. tensor([  5.7862,   0.8067, -17.4981], device='cuda:0') 0.0\n",
            "30. tensor([  5.9268,   0.8104, -17.8975], device='cuda:0') 0.0\n",
            "\n",
            "29 out of 30 = 96.67% correct\n"
          ]
        }
      ]
    }
  ],
  "metadata": {
    "kernelspec": {
      "display_name": "Python 3",
      "name": "python3"
    },
    "language_info": {
      "codemirror_mode": {
        "name": "ipython",
        "version": 3
      },
      "file_extension": ".py",
      "mimetype": "text/x-python",
      "name": "python",
      "nbconvert_exporter": "python",
      "pygments_lexer": "ipython3",
      "version": "3.9.12"
    },
    "colab": {
      "provenance": [],
      "gpuType": "T4"
    },
    "accelerator": "GPU"
  },
  "nbformat": 4,
  "nbformat_minor": 5
}