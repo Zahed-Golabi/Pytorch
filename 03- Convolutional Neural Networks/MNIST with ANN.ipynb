{
  "cells": [
    {
      "cell_type": "markdown",
      "id": "20c798be",
      "metadata": {
        "id": "20c798be"
      },
      "source": [
        "# MNIST with ANN"
      ]
    },
    {
      "cell_type": "markdown",
      "id": "879b94ac",
      "metadata": {
        "id": "879b94ac"
      },
      "source": [
        "### Imports"
      ]
    },
    {
      "cell_type": "code",
      "execution_count": 1,
      "id": "cfb45438",
      "metadata": {
        "id": "cfb45438"
      },
      "outputs": [],
      "source": [
        "import numpy as np\n",
        "import pandas as pd\n",
        "import matplotlib.pyplot as plt\n",
        "%matplotlib inline\n",
        "\n",
        "from sklearn.metrics import confusion_matrix"
      ]
    },
    {
      "cell_type": "code",
      "execution_count": 2,
      "id": "9d750cd5",
      "metadata": {
        "id": "9d750cd5"
      },
      "outputs": [],
      "source": [
        "import torch\n",
        "import torch.nn as nn\n",
        "import torch.nn.functional as F"
      ]
    },
    {
      "cell_type": "code",
      "execution_count": 3,
      "id": "3847f53b",
      "metadata": {
        "id": "3847f53b"
      },
      "outputs": [],
      "source": [
        "from torch.utils.data import DataLoader\n",
        "from torchvision import datasets, transforms"
      ]
    },
    {
      "cell_type": "markdown",
      "source": [
        "## Download Dataset"
      ],
      "metadata": {
        "id": "A0D1kbqYdZAX"
      },
      "id": "A0D1kbqYdZAX"
    },
    {
      "cell_type": "code",
      "execution_count": 4,
      "id": "79999bf2",
      "metadata": {
        "id": "79999bf2"
      },
      "outputs": [],
      "source": [
        "# MNIST Images to Tensors\n",
        "transform = transforms.ToTensor()"
      ]
    },
    {
      "cell_type": "code",
      "source": [
        "train_data = datasets.MNIST(root=\"./Data\", train=True, download=True, transform=transform)"
      ],
      "metadata": {
        "colab": {
          "base_uri": "https://localhost:8080/"
        },
        "id": "daRNeFEldpHG",
        "outputId": "8da3accb-9999-40c6-ed2b-039dd7649992"
      },
      "id": "daRNeFEldpHG",
      "execution_count": 5,
      "outputs": [
        {
          "output_type": "stream",
          "name": "stdout",
          "text": [
            "Downloading http://yann.lecun.com/exdb/mnist/train-images-idx3-ubyte.gz\n",
            "Downloading http://yann.lecun.com/exdb/mnist/train-images-idx3-ubyte.gz to ./Data/MNIST/raw/train-images-idx3-ubyte.gz\n"
          ]
        },
        {
          "output_type": "stream",
          "name": "stderr",
          "text": [
            "100%|██████████| 9912422/9912422 [00:00<00:00, 382886321.72it/s]"
          ]
        },
        {
          "output_type": "stream",
          "name": "stdout",
          "text": [
            "Extracting ./Data/MNIST/raw/train-images-idx3-ubyte.gz to ./Data/MNIST/raw\n"
          ]
        },
        {
          "output_type": "stream",
          "name": "stderr",
          "text": [
            "\n"
          ]
        },
        {
          "output_type": "stream",
          "name": "stdout",
          "text": [
            "\n",
            "Downloading http://yann.lecun.com/exdb/mnist/train-labels-idx1-ubyte.gz\n",
            "Downloading http://yann.lecun.com/exdb/mnist/train-labels-idx1-ubyte.gz to ./Data/MNIST/raw/train-labels-idx1-ubyte.gz\n"
          ]
        },
        {
          "output_type": "stream",
          "name": "stderr",
          "text": [
            "100%|██████████| 28881/28881 [00:00<00:00, 24116204.23it/s]\n"
          ]
        },
        {
          "output_type": "stream",
          "name": "stdout",
          "text": [
            "Extracting ./Data/MNIST/raw/train-labels-idx1-ubyte.gz to ./Data/MNIST/raw\n",
            "\n",
            "Downloading http://yann.lecun.com/exdb/mnist/t10k-images-idx3-ubyte.gz\n",
            "Downloading http://yann.lecun.com/exdb/mnist/t10k-images-idx3-ubyte.gz to ./Data/MNIST/raw/t10k-images-idx3-ubyte.gz\n"
          ]
        },
        {
          "output_type": "stream",
          "name": "stderr",
          "text": [
            "100%|██████████| 1648877/1648877 [00:00<00:00, 133663659.31it/s]"
          ]
        },
        {
          "output_type": "stream",
          "name": "stdout",
          "text": [
            "Extracting ./Data/MNIST/raw/t10k-images-idx3-ubyte.gz to ./Data/MNIST/raw\n",
            "\n",
            "Downloading http://yann.lecun.com/exdb/mnist/t10k-labels-idx1-ubyte.gz\n",
            "Downloading http://yann.lecun.com/exdb/mnist/t10k-labels-idx1-ubyte.gz to ./Data/MNIST/raw/t10k-labels-idx1-ubyte.gz\n"
          ]
        },
        {
          "output_type": "stream",
          "name": "stderr",
          "text": [
            "\n",
            "100%|██████████| 4542/4542 [00:00<00:00, 19262415.34it/s]\n"
          ]
        },
        {
          "output_type": "stream",
          "name": "stdout",
          "text": [
            "Extracting ./Data/MNIST/raw/t10k-labels-idx1-ubyte.gz to ./Data/MNIST/raw\n",
            "\n"
          ]
        }
      ]
    },
    {
      "cell_type": "code",
      "source": [
        "test_data = datasets.MNIST(root=\"./Data\", train=False, download=True, transform=transform)"
      ],
      "metadata": {
        "id": "hB_dOmN6ePG_"
      },
      "id": "hB_dOmN6ePG_",
      "execution_count": 6,
      "outputs": []
    },
    {
      "cell_type": "code",
      "source": [
        "train_data"
      ],
      "metadata": {
        "colab": {
          "base_uri": "https://localhost:8080/"
        },
        "id": "pwenzze6evh2",
        "outputId": "2e69678d-12c6-4c54-b513-99ea330903fa"
      },
      "id": "pwenzze6evh2",
      "execution_count": 7,
      "outputs": [
        {
          "output_type": "execute_result",
          "data": {
            "text/plain": [
              "Dataset MNIST\n",
              "    Number of datapoints: 60000\n",
              "    Root location: ./Data\n",
              "    Split: Train\n",
              "    StandardTransform\n",
              "Transform: ToTensor()"
            ]
          },
          "metadata": {},
          "execution_count": 7
        }
      ]
    },
    {
      "cell_type": "code",
      "source": [
        "test_data"
      ],
      "metadata": {
        "colab": {
          "base_uri": "https://localhost:8080/"
        },
        "id": "5MSuYZdee2zm",
        "outputId": "ae1c7f7f-990f-4262-e6cc-31ef071c8896"
      },
      "id": "5MSuYZdee2zm",
      "execution_count": 8,
      "outputs": [
        {
          "output_type": "execute_result",
          "data": {
            "text/plain": [
              "Dataset MNIST\n",
              "    Number of datapoints: 10000\n",
              "    Root location: ./Data\n",
              "    Split: Test\n",
              "    StandardTransform\n",
              "Transform: ToTensor()"
            ]
          },
          "metadata": {},
          "execution_count": 8
        }
      ]
    },
    {
      "cell_type": "markdown",
      "source": [
        "## Display Images"
      ],
      "metadata": {
        "id": "KnCHUYL7iPBG"
      },
      "id": "KnCHUYL7iPBG"
    },
    {
      "cell_type": "code",
      "source": [
        "type(train_data)"
      ],
      "metadata": {
        "colab": {
          "base_uri": "https://localhost:8080/"
        },
        "id": "boSgFqsWe8dK",
        "outputId": "e4d4502b-c596-4b5c-ef99-f1efe7642232"
      },
      "id": "boSgFqsWe8dK",
      "execution_count": 9,
      "outputs": [
        {
          "output_type": "execute_result",
          "data": {
            "text/plain": [
              "torchvision.datasets.mnist.MNIST"
            ]
          },
          "metadata": {},
          "execution_count": 9
        }
      ]
    },
    {
      "cell_type": "code",
      "source": [
        "type(train_data[0])"
      ],
      "metadata": {
        "colab": {
          "base_uri": "https://localhost:8080/"
        },
        "id": "GxaODBL7fFpI",
        "outputId": "26f973e4-5cd2-4d76-a6ec-55f210754b65"
      },
      "id": "GxaODBL7fFpI",
      "execution_count": 10,
      "outputs": [
        {
          "output_type": "execute_result",
          "data": {
            "text/plain": [
              "tuple"
            ]
          },
          "metadata": {},
          "execution_count": 10
        }
      ]
    },
    {
      "cell_type": "code",
      "source": [
        "train_data[0]"
      ],
      "metadata": {
        "colab": {
          "base_uri": "https://localhost:8080/"
        },
        "id": "159YzSrxfVi9",
        "outputId": "22fc3fed-6eae-4875-8c44-5a710410364e"
      },
      "id": "159YzSrxfVi9",
      "execution_count": 11,
      "outputs": [
        {
          "output_type": "execute_result",
          "data": {
            "text/plain": [
              "(tensor([[[0.0000, 0.0000, 0.0000, 0.0000, 0.0000, 0.0000, 0.0000, 0.0000,\n",
              "           0.0000, 0.0000, 0.0000, 0.0000, 0.0000, 0.0000, 0.0000, 0.0000,\n",
              "           0.0000, 0.0000, 0.0000, 0.0000, 0.0000, 0.0000, 0.0000, 0.0000,\n",
              "           0.0000, 0.0000, 0.0000, 0.0000],\n",
              "          [0.0000, 0.0000, 0.0000, 0.0000, 0.0000, 0.0000, 0.0000, 0.0000,\n",
              "           0.0000, 0.0000, 0.0000, 0.0000, 0.0000, 0.0000, 0.0000, 0.0000,\n",
              "           0.0000, 0.0000, 0.0000, 0.0000, 0.0000, 0.0000, 0.0000, 0.0000,\n",
              "           0.0000, 0.0000, 0.0000, 0.0000],\n",
              "          [0.0000, 0.0000, 0.0000, 0.0000, 0.0000, 0.0000, 0.0000, 0.0000,\n",
              "           0.0000, 0.0000, 0.0000, 0.0000, 0.0000, 0.0000, 0.0000, 0.0000,\n",
              "           0.0000, 0.0000, 0.0000, 0.0000, 0.0000, 0.0000, 0.0000, 0.0000,\n",
              "           0.0000, 0.0000, 0.0000, 0.0000],\n",
              "          [0.0000, 0.0000, 0.0000, 0.0000, 0.0000, 0.0000, 0.0000, 0.0000,\n",
              "           0.0000, 0.0000, 0.0000, 0.0000, 0.0000, 0.0000, 0.0000, 0.0000,\n",
              "           0.0000, 0.0000, 0.0000, 0.0000, 0.0000, 0.0000, 0.0000, 0.0000,\n",
              "           0.0000, 0.0000, 0.0000, 0.0000],\n",
              "          [0.0000, 0.0000, 0.0000, 0.0000, 0.0000, 0.0000, 0.0000, 0.0000,\n",
              "           0.0000, 0.0000, 0.0000, 0.0000, 0.0000, 0.0000, 0.0000, 0.0000,\n",
              "           0.0000, 0.0000, 0.0000, 0.0000, 0.0000, 0.0000, 0.0000, 0.0000,\n",
              "           0.0000, 0.0000, 0.0000, 0.0000],\n",
              "          [0.0000, 0.0000, 0.0000, 0.0000, 0.0000, 0.0000, 0.0000, 0.0000,\n",
              "           0.0000, 0.0000, 0.0000, 0.0000, 0.0118, 0.0706, 0.0706, 0.0706,\n",
              "           0.4941, 0.5333, 0.6863, 0.1020, 0.6510, 1.0000, 0.9686, 0.4980,\n",
              "           0.0000, 0.0000, 0.0000, 0.0000],\n",
              "          [0.0000, 0.0000, 0.0000, 0.0000, 0.0000, 0.0000, 0.0000, 0.0000,\n",
              "           0.1176, 0.1412, 0.3686, 0.6039, 0.6667, 0.9922, 0.9922, 0.9922,\n",
              "           0.9922, 0.9922, 0.8824, 0.6745, 0.9922, 0.9490, 0.7647, 0.2510,\n",
              "           0.0000, 0.0000, 0.0000, 0.0000],\n",
              "          [0.0000, 0.0000, 0.0000, 0.0000, 0.0000, 0.0000, 0.0000, 0.1922,\n",
              "           0.9333, 0.9922, 0.9922, 0.9922, 0.9922, 0.9922, 0.9922, 0.9922,\n",
              "           0.9922, 0.9843, 0.3647, 0.3216, 0.3216, 0.2196, 0.1529, 0.0000,\n",
              "           0.0000, 0.0000, 0.0000, 0.0000],\n",
              "          [0.0000, 0.0000, 0.0000, 0.0000, 0.0000, 0.0000, 0.0000, 0.0706,\n",
              "           0.8588, 0.9922, 0.9922, 0.9922, 0.9922, 0.9922, 0.7765, 0.7137,\n",
              "           0.9686, 0.9451, 0.0000, 0.0000, 0.0000, 0.0000, 0.0000, 0.0000,\n",
              "           0.0000, 0.0000, 0.0000, 0.0000],\n",
              "          [0.0000, 0.0000, 0.0000, 0.0000, 0.0000, 0.0000, 0.0000, 0.0000,\n",
              "           0.3137, 0.6118, 0.4196, 0.9922, 0.9922, 0.8039, 0.0431, 0.0000,\n",
              "           0.1686, 0.6039, 0.0000, 0.0000, 0.0000, 0.0000, 0.0000, 0.0000,\n",
              "           0.0000, 0.0000, 0.0000, 0.0000],\n",
              "          [0.0000, 0.0000, 0.0000, 0.0000, 0.0000, 0.0000, 0.0000, 0.0000,\n",
              "           0.0000, 0.0549, 0.0039, 0.6039, 0.9922, 0.3529, 0.0000, 0.0000,\n",
              "           0.0000, 0.0000, 0.0000, 0.0000, 0.0000, 0.0000, 0.0000, 0.0000,\n",
              "           0.0000, 0.0000, 0.0000, 0.0000],\n",
              "          [0.0000, 0.0000, 0.0000, 0.0000, 0.0000, 0.0000, 0.0000, 0.0000,\n",
              "           0.0000, 0.0000, 0.0000, 0.5451, 0.9922, 0.7451, 0.0078, 0.0000,\n",
              "           0.0000, 0.0000, 0.0000, 0.0000, 0.0000, 0.0000, 0.0000, 0.0000,\n",
              "           0.0000, 0.0000, 0.0000, 0.0000],\n",
              "          [0.0000, 0.0000, 0.0000, 0.0000, 0.0000, 0.0000, 0.0000, 0.0000,\n",
              "           0.0000, 0.0000, 0.0000, 0.0431, 0.7451, 0.9922, 0.2745, 0.0000,\n",
              "           0.0000, 0.0000, 0.0000, 0.0000, 0.0000, 0.0000, 0.0000, 0.0000,\n",
              "           0.0000, 0.0000, 0.0000, 0.0000],\n",
              "          [0.0000, 0.0000, 0.0000, 0.0000, 0.0000, 0.0000, 0.0000, 0.0000,\n",
              "           0.0000, 0.0000, 0.0000, 0.0000, 0.1373, 0.9451, 0.8824, 0.6275,\n",
              "           0.4235, 0.0039, 0.0000, 0.0000, 0.0000, 0.0000, 0.0000, 0.0000,\n",
              "           0.0000, 0.0000, 0.0000, 0.0000],\n",
              "          [0.0000, 0.0000, 0.0000, 0.0000, 0.0000, 0.0000, 0.0000, 0.0000,\n",
              "           0.0000, 0.0000, 0.0000, 0.0000, 0.0000, 0.3176, 0.9412, 0.9922,\n",
              "           0.9922, 0.4667, 0.0980, 0.0000, 0.0000, 0.0000, 0.0000, 0.0000,\n",
              "           0.0000, 0.0000, 0.0000, 0.0000],\n",
              "          [0.0000, 0.0000, 0.0000, 0.0000, 0.0000, 0.0000, 0.0000, 0.0000,\n",
              "           0.0000, 0.0000, 0.0000, 0.0000, 0.0000, 0.0000, 0.1765, 0.7294,\n",
              "           0.9922, 0.9922, 0.5882, 0.1059, 0.0000, 0.0000, 0.0000, 0.0000,\n",
              "           0.0000, 0.0000, 0.0000, 0.0000],\n",
              "          [0.0000, 0.0000, 0.0000, 0.0000, 0.0000, 0.0000, 0.0000, 0.0000,\n",
              "           0.0000, 0.0000, 0.0000, 0.0000, 0.0000, 0.0000, 0.0000, 0.0627,\n",
              "           0.3647, 0.9882, 0.9922, 0.7333, 0.0000, 0.0000, 0.0000, 0.0000,\n",
              "           0.0000, 0.0000, 0.0000, 0.0000],\n",
              "          [0.0000, 0.0000, 0.0000, 0.0000, 0.0000, 0.0000, 0.0000, 0.0000,\n",
              "           0.0000, 0.0000, 0.0000, 0.0000, 0.0000, 0.0000, 0.0000, 0.0000,\n",
              "           0.0000, 0.9765, 0.9922, 0.9765, 0.2510, 0.0000, 0.0000, 0.0000,\n",
              "           0.0000, 0.0000, 0.0000, 0.0000],\n",
              "          [0.0000, 0.0000, 0.0000, 0.0000, 0.0000, 0.0000, 0.0000, 0.0000,\n",
              "           0.0000, 0.0000, 0.0000, 0.0000, 0.0000, 0.0000, 0.1804, 0.5098,\n",
              "           0.7176, 0.9922, 0.9922, 0.8118, 0.0078, 0.0000, 0.0000, 0.0000,\n",
              "           0.0000, 0.0000, 0.0000, 0.0000],\n",
              "          [0.0000, 0.0000, 0.0000, 0.0000, 0.0000, 0.0000, 0.0000, 0.0000,\n",
              "           0.0000, 0.0000, 0.0000, 0.0000, 0.1529, 0.5804, 0.8980, 0.9922,\n",
              "           0.9922, 0.9922, 0.9804, 0.7137, 0.0000, 0.0000, 0.0000, 0.0000,\n",
              "           0.0000, 0.0000, 0.0000, 0.0000],\n",
              "          [0.0000, 0.0000, 0.0000, 0.0000, 0.0000, 0.0000, 0.0000, 0.0000,\n",
              "           0.0000, 0.0000, 0.0941, 0.4471, 0.8667, 0.9922, 0.9922, 0.9922,\n",
              "           0.9922, 0.7882, 0.3059, 0.0000, 0.0000, 0.0000, 0.0000, 0.0000,\n",
              "           0.0000, 0.0000, 0.0000, 0.0000],\n",
              "          [0.0000, 0.0000, 0.0000, 0.0000, 0.0000, 0.0000, 0.0000, 0.0000,\n",
              "           0.0902, 0.2588, 0.8353, 0.9922, 0.9922, 0.9922, 0.9922, 0.7765,\n",
              "           0.3176, 0.0078, 0.0000, 0.0000, 0.0000, 0.0000, 0.0000, 0.0000,\n",
              "           0.0000, 0.0000, 0.0000, 0.0000],\n",
              "          [0.0000, 0.0000, 0.0000, 0.0000, 0.0000, 0.0000, 0.0706, 0.6706,\n",
              "           0.8588, 0.9922, 0.9922, 0.9922, 0.9922, 0.7647, 0.3137, 0.0353,\n",
              "           0.0000, 0.0000, 0.0000, 0.0000, 0.0000, 0.0000, 0.0000, 0.0000,\n",
              "           0.0000, 0.0000, 0.0000, 0.0000],\n",
              "          [0.0000, 0.0000, 0.0000, 0.0000, 0.2157, 0.6745, 0.8863, 0.9922,\n",
              "           0.9922, 0.9922, 0.9922, 0.9569, 0.5216, 0.0431, 0.0000, 0.0000,\n",
              "           0.0000, 0.0000, 0.0000, 0.0000, 0.0000, 0.0000, 0.0000, 0.0000,\n",
              "           0.0000, 0.0000, 0.0000, 0.0000],\n",
              "          [0.0000, 0.0000, 0.0000, 0.0000, 0.5333, 0.9922, 0.9922, 0.9922,\n",
              "           0.8314, 0.5294, 0.5176, 0.0627, 0.0000, 0.0000, 0.0000, 0.0000,\n",
              "           0.0000, 0.0000, 0.0000, 0.0000, 0.0000, 0.0000, 0.0000, 0.0000,\n",
              "           0.0000, 0.0000, 0.0000, 0.0000],\n",
              "          [0.0000, 0.0000, 0.0000, 0.0000, 0.0000, 0.0000, 0.0000, 0.0000,\n",
              "           0.0000, 0.0000, 0.0000, 0.0000, 0.0000, 0.0000, 0.0000, 0.0000,\n",
              "           0.0000, 0.0000, 0.0000, 0.0000, 0.0000, 0.0000, 0.0000, 0.0000,\n",
              "           0.0000, 0.0000, 0.0000, 0.0000],\n",
              "          [0.0000, 0.0000, 0.0000, 0.0000, 0.0000, 0.0000, 0.0000, 0.0000,\n",
              "           0.0000, 0.0000, 0.0000, 0.0000, 0.0000, 0.0000, 0.0000, 0.0000,\n",
              "           0.0000, 0.0000, 0.0000, 0.0000, 0.0000, 0.0000, 0.0000, 0.0000,\n",
              "           0.0000, 0.0000, 0.0000, 0.0000],\n",
              "          [0.0000, 0.0000, 0.0000, 0.0000, 0.0000, 0.0000, 0.0000, 0.0000,\n",
              "           0.0000, 0.0000, 0.0000, 0.0000, 0.0000, 0.0000, 0.0000, 0.0000,\n",
              "           0.0000, 0.0000, 0.0000, 0.0000, 0.0000, 0.0000, 0.0000, 0.0000,\n",
              "           0.0000, 0.0000, 0.0000, 0.0000]]]),\n",
              " 5)"
            ]
          },
          "metadata": {},
          "execution_count": 11
        }
      ]
    },
    {
      "cell_type": "code",
      "source": [
        "image, label = train_data[0]"
      ],
      "metadata": {
        "id": "6rQe0ws0flXm"
      },
      "id": "6rQe0ws0flXm",
      "execution_count": 12,
      "outputs": []
    },
    {
      "cell_type": "code",
      "source": [
        "image.shape"
      ],
      "metadata": {
        "colab": {
          "base_uri": "https://localhost:8080/"
        },
        "id": "PWODLV-YgFnt",
        "outputId": "f7630567-44f5-43dd-f23a-b1abfef8bf84"
      },
      "id": "PWODLV-YgFnt",
      "execution_count": 13,
      "outputs": [
        {
          "output_type": "execute_result",
          "data": {
            "text/plain": [
              "torch.Size([1, 28, 28])"
            ]
          },
          "metadata": {},
          "execution_count": 13
        }
      ]
    },
    {
      "cell_type": "code",
      "source": [
        "label"
      ],
      "metadata": {
        "colab": {
          "base_uri": "https://localhost:8080/"
        },
        "id": "EFyYP-EpgLk1",
        "outputId": "0baf5c89-92b4-4da5-b590-2110c7d34bae"
      },
      "id": "EFyYP-EpgLk1",
      "execution_count": 14,
      "outputs": [
        {
          "output_type": "execute_result",
          "data": {
            "text/plain": [
              "5"
            ]
          },
          "metadata": {},
          "execution_count": 14
        }
      ]
    },
    {
      "cell_type": "code",
      "source": [
        "plt.imshow(image.reshape(28,28,1), cmap=\"gray\")"
      ],
      "metadata": {
        "colab": {
          "base_uri": "https://localhost:8080/",
          "height": 447
        },
        "id": "4zRdJ_hvgPvh",
        "outputId": "ca4fc6be-b947-4b53-a7b3-90c50d0a2de2"
      },
      "id": "4zRdJ_hvgPvh",
      "execution_count": 15,
      "outputs": [
        {
          "output_type": "execute_result",
          "data": {
            "text/plain": [
              "<matplotlib.image.AxesImage at 0x7fda2cb567a0>"
            ]
          },
          "metadata": {},
          "execution_count": 15
        },
        {
          "output_type": "display_data",
          "data": {
            "text/plain": [
              "<Figure size 640x480 with 1 Axes>"
            ],
            "image/png": "[encoded data removed]"
          },
          "metadata": {}
        }
      ]
    },
    {
      "cell_type": "code",
      "source": [
        "plt.imshow(image.reshape(28,28,1), cmap=\"gray_r\")"
      ],
      "metadata": {
        "colab": {
          "base_uri": "https://localhost:8080/",
          "height": 447
        },
        "id": "0Yg9kEHYg87I",
        "outputId": "69f649a6-25bb-4726-8c10-ca6055198475"
      },
      "id": "0Yg9kEHYg87I",
      "execution_count": 16,
      "outputs": [
        {
          "output_type": "execute_result",
          "data": {
            "text/plain": [
              "<matplotlib.image.AxesImage at 0x7fda2a282b90>"
            ]
          },
          "metadata": {},
          "execution_count": 16
        },
        {
          "output_type": "display_data",
          "data": {
            "text/plain": [
              "<Figure size 640x480 with 1 Axes>"
            ],
            "image/png": "[encoded data removed]"
          },
          "metadata": {}
        }
      ]
    },
    {
      "cell_type": "markdown",
      "source": [
        "## Load Batches"
      ],
      "metadata": {
        "id": "uovyF_Wainf0"
      },
      "id": "uovyF_Wainf0"
    },
    {
      "cell_type": "code",
      "source": [
        "torch.manual_seed(101)\n",
        "\n",
        "train_loader = DataLoader(train_data, batch_size=100, shuffle=True)\n",
        "\n",
        "test_loader = DataLoader(test_data, batch_size=500, shuffle=False)"
      ],
      "metadata": {
        "id": "1gXuHqDfhofB"
      },
      "id": "1gXuHqDfhofB",
      "execution_count": 17,
      "outputs": []
    },
    {
      "cell_type": "code",
      "source": [
        "from torchvision.utils import make_grid\n",
        "np.set_printoptions(formatter=dict(int=lambda x: f\"{x:4}\")) # Formatting"
      ],
      "metadata": {
        "id": "EFtpR_CPjdR6"
      },
      "id": "EFtpR_CPjdR6",
      "execution_count": 18,
      "outputs": []
    },
    {
      "cell_type": "code",
      "source": [
        "# First Batch    60,000 / 100 = 600 batches\n",
        "for images, labels in train_loader:\n",
        "  break"
      ],
      "metadata": {
        "id": "tPiivaAak2_G"
      },
      "id": "tPiivaAak2_G",
      "execution_count": 19,
      "outputs": []
    },
    {
      "cell_type": "code",
      "source": [
        "images.shape"
      ],
      "metadata": {
        "id": "o1nx_Yg8lMvj",
        "outputId": "ca3bbb8f-d05e-46c7-a94a-39f7b4d2ae78",
        "colab": {
          "base_uri": "https://localhost:8080/"
        }
      },
      "id": "o1nx_Yg8lMvj",
      "execution_count": 20,
      "outputs": [
        {
          "output_type": "execute_result",
          "data": {
            "text/plain": [
              "torch.Size([100, 1, 28, 28])"
            ]
          },
          "metadata": {},
          "execution_count": 20
        }
      ]
    },
    {
      "cell_type": "code",
      "source": [
        "len(images)"
      ],
      "metadata": {
        "id": "vtzdVzEanERV",
        "outputId": "7ab17924-4769-41d1-b07c-0e3d20a3b61b",
        "colab": {
          "base_uri": "https://localhost:8080/"
        }
      },
      "id": "vtzdVzEanERV",
      "execution_count": 21,
      "outputs": [
        {
          "output_type": "execute_result",
          "data": {
            "text/plain": [
              "100"
            ]
          },
          "metadata": {},
          "execution_count": 21
        }
      ]
    },
    {
      "cell_type": "code",
      "source": [
        "labels.shape"
      ],
      "metadata": {
        "id": "qiR1dOAUlPMs",
        "outputId": "f185d88b-9d22-4b1a-f3fc-21eafa2c8edc",
        "colab": {
          "base_uri": "https://localhost:8080/"
        }
      },
      "id": "qiR1dOAUlPMs",
      "execution_count": 22,
      "outputs": [
        {
          "output_type": "execute_result",
          "data": {
            "text/plain": [
              "torch.Size([100])"
            ]
          },
          "metadata": {},
          "execution_count": 22
        }
      ]
    },
    {
      "cell_type": "markdown",
      "source": [
        "### Show 12 images with grid"
      ],
      "metadata": {
        "id": "vGUmzDzyln19"
      },
      "id": "vGUmzDzyln19"
    },
    {
      "cell_type": "code",
      "source": [
        "# Print the first 12 labels\n",
        "print(\"Labels\", labels[0:12].numpy())\n",
        "\n",
        "# Print the first 12 images\n",
        "image = make_grid(images[0:12], nrow=12)\n",
        "plt.figure(figsize=(10,4))\n",
        "# transpose the images from CWH to WHC\n",
        "plt.imshow(np.transpose(image.numpy(), (1,2,0)))"
      ],
      "metadata": {
        "id": "6BZA2MOZlT7Y",
        "outputId": "a476d710-c309-4144-8cc3-ead9ac963141",
        "colab": {
          "base_uri": "https://localhost:8080/",
          "height": 140
        }
      },
      "id": "6BZA2MOZlT7Y",
      "execution_count": 23,
      "outputs": [
        {
          "output_type": "stream",
          "name": "stdout",
          "text": [
            "Labels [   7    2    3    5    8    5    3    6    9    9    1    3]\n"
          ]
        },
        {
          "output_type": "execute_result",
          "data": {
            "text/plain": [
              "<matplotlib.image.AxesImage at 0x7fda2a134cd0>"
            ]
          },
          "metadata": {},
          "execution_count": 23
        },
        {
          "output_type": "display_data",
          "data": {
            "text/plain": [
              "<Figure size 1000x400 with 1 Axes>"
            ],
            "image/png": "[encoded data removed]"
          },
          "metadata": {}
        }
      ]
    },
    {
      "cell_type": "code",
      "source": [
        "img = images[0]"
      ],
      "metadata": {
        "id": "k0Nw9jGMn4K7"
      },
      "id": "k0Nw9jGMn4K7",
      "execution_count": 24,
      "outputs": []
    },
    {
      "cell_type": "code",
      "source": [
        "img.shape"
      ],
      "metadata": {
        "id": "V60Lj-uTn-ky",
        "outputId": "c54d3d4c-a42f-4849-f1f4-90598748581d",
        "colab": {
          "base_uri": "https://localhost:8080/"
        }
      },
      "id": "V60Lj-uTn-ky",
      "execution_count": 25,
      "outputs": [
        {
          "output_type": "execute_result",
          "data": {
            "text/plain": [
              "torch.Size([1, 28, 28])"
            ]
          },
          "metadata": {},
          "execution_count": 25
        }
      ]
    },
    {
      "cell_type": "code",
      "source": [
        "img_0 = np.transpose(img, (1,2,0))"
      ],
      "metadata": {
        "id": "FSEKMfKloAus"
      },
      "id": "FSEKMfKloAus",
      "execution_count": 26,
      "outputs": []
    },
    {
      "cell_type": "code",
      "source": [
        "plt.imshow(img_0, cmap=\"gray_r\")"
      ],
      "metadata": {
        "id": "AOq73q3OoKMh",
        "outputId": "a3fa6fee-3290-4b6a-80d3-5fdaa1d396b0",
        "colab": {
          "base_uri": "https://localhost:8080/",
          "height": 447
        }
      },
      "id": "AOq73q3OoKMh",
      "execution_count": 27,
      "outputs": [
        {
          "output_type": "execute_result",
          "data": {
            "text/plain": [
              "<matplotlib.image.AxesImage at 0x7fda2cb56770>"
            ]
          },
          "metadata": {},
          "execution_count": 27
        },
        {
          "output_type": "display_data",
          "data": {
            "text/plain": [
              "<Figure size 640x480 with 1 Axes>"
            ],
            "image/png": "[encoded data removed]"
          },
          "metadata": {}
        }
      ]
    },
    {
      "cell_type": "markdown",
      "source": [
        "## Define Model"
      ],
      "metadata": {
        "id": "HX05jKznI3J4"
      },
      "id": "HX05jKznI3J4"
    },
    {
      "cell_type": "code",
      "source": [
        "class MultiLayerPerceptron(nn.Module):\n",
        "\n",
        "  def __init__(self, in_size=784, out_size=10, layers=[120,84]):\n",
        "\n",
        "    super().__init__()\n",
        "\n",
        "    self.fc1 = nn.Linear(in_size, layers[0])\n",
        "    self.fc2 = nn.Linear(layers[0], layers[1])\n",
        "    self.fc3 = nn.Linear(layers[1], out_size)\n",
        "\n",
        "\n",
        "  def forward(self, X):\n",
        "\n",
        "    X = F.relu(self.fc1(X))\n",
        "    X = F.relu(self.fc2(X))\n",
        "    X = self.fc3(X)\n",
        "\n",
        "    return F.log_softmax(X, dim=1)  # Multi Class Classification\n"
      ],
      "metadata": {
        "id": "MJXSLQWZI724"
      },
      "id": "MJXSLQWZI724",
      "execution_count": 28,
      "outputs": []
    },
    {
      "cell_type": "code",
      "source": [
        "torch.manual_seed(101)\n",
        "model = MultiLayerPerceptron()"
      ],
      "metadata": {
        "id": "sDWpDcMyNwPy"
      },
      "id": "sDWpDcMyNwPy",
      "execution_count": 29,
      "outputs": []
    },
    {
      "cell_type": "code",
      "source": [
        "model"
      ],
      "metadata": {
        "colab": {
          "base_uri": "https://localhost:8080/"
        },
        "id": "JMZjZ_tfOBba",
        "outputId": "c54d6519-8afd-40f9-fc67-ec3cfaa6abf4"
      },
      "id": "JMZjZ_tfOBba",
      "execution_count": 30,
      "outputs": [
        {
          "output_type": "execute_result",
          "data": {
            "text/plain": [
              "MultiLayerPerceptron(\n",
              "  (fc1): Linear(in_features=784, out_features=120, bias=True)\n",
              "  (fc2): Linear(in_features=120, out_features=84, bias=True)\n",
              "  (fc3): Linear(in_features=84, out_features=10, bias=True)\n",
              ")"
            ]
          },
          "metadata": {},
          "execution_count": 30
        }
      ]
    },
    {
      "cell_type": "code",
      "source": [
        "for param in model.parameters():\n",
        "  print(param.numel())"
      ],
      "metadata": {
        "colab": {
          "base_uri": "https://localhost:8080/"
        },
        "id": "8eClAivkOBaN",
        "outputId": "f2950fdd-92a5-4f05-9f3e-d9021b13f0a3"
      },
      "id": "8eClAivkOBaN",
      "execution_count": 31,
      "outputs": [
        {
          "output_type": "stream",
          "name": "stdout",
          "text": [
            "94080\n",
            "120\n",
            "10080\n",
            "84\n",
            "840\n",
            "10\n"
          ]
        }
      ]
    },
    {
      "cell_type": "code",
      "source": [
        "criterion = nn.CrossEntropyLoss()\n",
        "optimizer = torch.optim.Adam(model.parameters(), lr=0.001)"
      ],
      "metadata": {
        "id": "FM5SCq83Pcl9"
      },
      "id": "FM5SCq83Pcl9",
      "execution_count": 32,
      "outputs": []
    },
    {
      "cell_type": "markdown",
      "source": [
        "## Flatten Train"
      ],
      "metadata": {
        "id": "3Nez9GCTS0YE"
      },
      "id": "3Nez9GCTS0YE"
    },
    {
      "cell_type": "code",
      "source": [
        "images.shape"
      ],
      "metadata": {
        "colab": {
          "base_uri": "https://localhost:8080/"
        },
        "id": "9Luji71hQrrV",
        "outputId": "e8a829c0-0699-4ac2-c31f-c514487f614d"
      },
      "id": "9Luji71hQrrV",
      "execution_count": 33,
      "outputs": [
        {
          "output_type": "execute_result",
          "data": {
            "text/plain": [
              "torch.Size([100, 1, 28, 28])"
            ]
          },
          "metadata": {},
          "execution_count": 33
        }
      ]
    },
    {
      "cell_type": "code",
      "source": [
        "images.reshape(100,-1).shape"
      ],
      "metadata": {
        "colab": {
          "base_uri": "https://localhost:8080/"
        },
        "id": "7j3W9zA1Re7-",
        "outputId": "ffd3b2b7-aba4-4f91-8937-3209428459a6"
      },
      "id": "7j3W9zA1Re7-",
      "execution_count": 34,
      "outputs": [
        {
          "output_type": "execute_result",
          "data": {
            "text/plain": [
              "torch.Size([100, 784])"
            ]
          },
          "metadata": {},
          "execution_count": 34
        }
      ]
    },
    {
      "cell_type": "code",
      "source": [
        "images.view(100,-1).shape"
      ],
      "metadata": {
        "colab": {
          "base_uri": "https://localhost:8080/"
        },
        "id": "4a4B3FmxSAG7",
        "outputId": "13fc42a8-8843-4895-c959-c2d6d02524d1"
      },
      "id": "4a4B3FmxSAG7",
      "execution_count": 35,
      "outputs": [
        {
          "output_type": "execute_result",
          "data": {
            "text/plain": [
              "torch.Size([100, 784])"
            ]
          },
          "metadata": {},
          "execution_count": 35
        }
      ]
    },
    {
      "cell_type": "code",
      "source": [
        "images.shape"
      ],
      "metadata": {
        "colab": {
          "base_uri": "https://localhost:8080/"
        },
        "id": "jX-08f04SHG-",
        "outputId": "f31d66a2-d142-4ca9-a8f2-9e5737e102b4"
      },
      "id": "jX-08f04SHG-",
      "execution_count": 36,
      "outputs": [
        {
          "output_type": "execute_result",
          "data": {
            "text/plain": [
              "torch.Size([100, 1, 28, 28])"
            ]
          },
          "metadata": {},
          "execution_count": 36
        }
      ]
    },
    {
      "cell_type": "markdown",
      "source": [
        "## Train Model"
      ],
      "metadata": {
        "id": "hzGaSCxdTF4M"
      },
      "id": "hzGaSCxdTF4M"
    },
    {
      "cell_type": "code",
      "source": [
        "import time\n",
        "\n",
        "start_time = time.time()\n",
        "\n",
        "# Training\n",
        "\n",
        "epochs = 10\n",
        "\n",
        "train_losses = []\n",
        "test_losses = []\n",
        "train_correct = []\n",
        "test_correct = []\n",
        "\n",
        "for i in range(epochs):\n",
        "\n",
        "  trn_corr = 0\n",
        "  tst_corr = 0\n",
        "\n",
        "  for b, (X_train, y_train) in enumerate(train_loader):\n",
        "\n",
        "    b += 1\n",
        "\n",
        "    y_pred = model(X_train.view(100,-1))\n",
        "    loss = criterion(y_pred, y_train)\n",
        "\n",
        "    predicted = torch.max(y_pred.data,1)[1]\n",
        "    batch_corr = (predicted == y_train).sum()\n",
        "    trn_corr += batch_corr\n",
        "\n",
        "    optimizer.zero_grad()\n",
        "    loss.backward()\n",
        "    optimizer.step()\n",
        "\n",
        "    if b%200 == 0:\n",
        "      acc = trn_corr.item()*100/(100*b)\n",
        "      print(f\"Epoch {i} batch{b} loss:{loss.item()} accuracy:{acc}\")\n",
        "\n",
        "  train_losses.append(loss)\n",
        "  train_correct.append(trn_corr)\n",
        "\n",
        "  with torch.no_grad():\n",
        "\n",
        "    for b,(X_test, y_test) in enumerate(test_loader):\n",
        "\n",
        "      y_val = model(X_test.view(500,-1))\n",
        "\n",
        "      predicted = torch.max(y_val.data,1)[1]\n",
        "      tst_corr += (predicted == y_test).sum()\n",
        "\n",
        "  loss = criterion(y_val, y_test)\n",
        "  test_losses.append(loss)\n",
        "  test_correct.append(tst_corr)\n",
        "\n",
        "\n",
        "total_time = time.time() - start_time\n",
        "print(f\"Duration: {total_time/60} mins\")"
      ],
      "metadata": {
        "colab": {
          "base_uri": "https://localhost:8080/"
        },
        "id": "YH3wUpXWTbC0",
        "outputId": "b9c935b8-3b7f-4849-a1bb-bfa87e389152"
      },
      "id": "YH3wUpXWTbC0",
      "execution_count": 37,
      "outputs": [
        {
          "output_type": "stream",
          "name": "stdout",
          "text": [
            "Epoch 0 batch200 loss:0.23541302978992462 accuracy:83.25\n",
            "Epoch 0 batch400 loss:0.3537280559539795 accuracy:87.5275\n",
            "Epoch 0 batch600 loss:0.13648737967014313 accuracy:89.57333333333334\n",
            "Epoch 1 batch200 loss:0.24467909336090088 accuracy:94.805\n",
            "Epoch 1 batch400 loss:0.14542999863624573 accuracy:95.0625\n",
            "Epoch 1 batch600 loss:0.07299500703811646 accuracy:95.35666666666667\n",
            "Epoch 2 batch200 loss:0.08716943860054016 accuracy:96.5\n",
            "Epoch 2 batch400 loss:0.0669819787144661 accuracy:96.595\n",
            "Epoch 2 batch600 loss:0.0688866600394249 accuracy:96.67833333333333\n",
            "Epoch 3 batch200 loss:0.11654192209243774 accuracy:97.67\n",
            "Epoch 3 batch400 loss:0.0588822178542614 accuracy:97.4975\n",
            "Epoch 3 batch600 loss:0.03282598406076431 accuracy:97.51333333333334\n",
            "Epoch 4 batch200 loss:0.11771348863840103 accuracy:98.185\n",
            "Epoch 4 batch400 loss:0.045562487095594406 accuracy:98.03\n",
            "Epoch 4 batch600 loss:0.04847530275583267 accuracy:98.02833333333334\n",
            "Epoch 5 batch200 loss:0.008836661465466022 accuracy:98.395\n",
            "Epoch 5 batch400 loss:0.03530832380056381 accuracy:98.505\n",
            "Epoch 5 batch600 loss:0.05088510364294052 accuracy:98.42166666666667\n",
            "Epoch 6 batch200 loss:0.04278699308633804 accuracy:98.86\n",
            "Epoch 6 batch400 loss:0.07219543308019638 accuracy:98.7325\n",
            "Epoch 6 batch600 loss:0.09112444519996643 accuracy:98.68666666666667\n",
            "Epoch 7 batch200 loss:0.07174977660179138 accuracy:99.125\n",
            "Epoch 7 batch400 loss:0.07589063793420792 accuracy:98.9825\n",
            "Epoch 7 batch600 loss:0.0453595407307148 accuracy:98.94166666666666\n",
            "Epoch 8 batch200 loss:0.007350040599703789 accuracy:99.245\n",
            "Epoch 8 batch400 loss:0.006489048711955547 accuracy:99.1425\n",
            "Epoch 8 batch600 loss:0.08944304287433624 accuracy:99.11666666666666\n",
            "Epoch 9 batch200 loss:0.004456487018615007 accuracy:99.445\n",
            "Epoch 9 batch400 loss:0.009803196415305138 accuracy:99.3075\n",
            "Epoch 9 batch600 loss:0.02394043654203415 accuracy:99.28\n",
            "Duration: 1.940111800034841 mins\n"
          ]
        }
      ]
    },
    {
      "cell_type": "markdown",
      "source": [
        "## Validation"
      ],
      "metadata": {
        "id": "shNu_b6waYrP"
      },
      "id": "shNu_b6waYrP"
    },
    {
      "cell_type": "code",
      "source": [
        "plt.plot(torch.Tensor(train_losses), label=\"Training Loss\")\n",
        "plt.plot(torch.Tensor(test_losses),  label=\"Test/Validation Loss\")\n",
        "plt.legend()"
      ],
      "metadata": {
        "colab": {
          "base_uri": "https://localhost:8080/",
          "height": 447
        },
        "id": "9XpZBBloaUk7",
        "outputId": "8f0d767b-aa48-4323-8b43-feeaf5b2492c"
      },
      "id": "9XpZBBloaUk7",
      "execution_count": 50,
      "outputs": [
        {
          "output_type": "execute_result",
          "data": {
            "text/plain": [
              "<matplotlib.legend.Legend at 0x7fda263ecc70>"
            ]
          },
          "metadata": {},
          "execution_count": 50
        },
        {
          "output_type": "display_data",
          "data": {
            "text/plain": [
              "<Figure size 640x480 with 1 Axes>"
            ],
            "image/png": "[encoded data removed]"
          },
          "metadata": {}
        }
      ]
    },
    {
      "cell_type": "code",
      "source": [
        "train_correct"
      ],
      "metadata": {
        "colab": {
          "base_uri": "https://localhost:8080/"
        },
        "id": "p6zGyNPhctcU",
        "outputId": "88536892-d8cc-4622-df02-b5482676cb55"
      },
      "id": "p6zGyNPhctcU",
      "execution_count": 53,
      "outputs": [
        {
          "output_type": "execute_result",
          "data": {
            "text/plain": [
              "[tensor(53744),\n",
              " tensor(57214),\n",
              " tensor(58007),\n",
              " tensor(58508),\n",
              " tensor(58817),\n",
              " tensor(59053),\n",
              " tensor(59212),\n",
              " tensor(59365),\n",
              " tensor(59470),\n",
              " tensor(59568)]"
            ]
          },
          "metadata": {},
          "execution_count": 53
        }
      ]
    },
    {
      "cell_type": "code",
      "source": [
        "train_acc = [t/600 for t in train_correct]"
      ],
      "metadata": {
        "id": "yKlfzDFeeXKp"
      },
      "id": "yKlfzDFeeXKp",
      "execution_count": 57,
      "outputs": []
    },
    {
      "cell_type": "code",
      "source": [
        "train_acc"
      ],
      "metadata": {
        "colab": {
          "base_uri": "https://localhost:8080/"
        },
        "id": "eCCkj0Ave1Sa",
        "outputId": "7bac962b-101b-4fa6-a8bf-92ae144eba5c"
      },
      "id": "eCCkj0Ave1Sa",
      "execution_count": 58,
      "outputs": [
        {
          "output_type": "execute_result",
          "data": {
            "text/plain": [
              "[tensor(89.5733),\n",
              " tensor(95.3567),\n",
              " tensor(96.6783),\n",
              " tensor(97.5133),\n",
              " tensor(98.0283),\n",
              " tensor(98.4217),\n",
              " tensor(98.6867),\n",
              " tensor(98.9417),\n",
              " tensor(99.1167),\n",
              " tensor(99.2800)]"
            ]
          },
          "metadata": {},
          "execution_count": 58
        }
      ]
    },
    {
      "cell_type": "code",
      "source": [],
      "metadata": {
        "id": "4959g5Cme-74"
      },
      "id": "4959g5Cme-74",
      "execution_count": null,
      "outputs": []
    },
    {
      "cell_type": "code",
      "source": [
        "test_correct"
      ],
      "metadata": {
        "colab": {
          "base_uri": "https://localhost:8080/"
        },
        "id": "oxETg1Tzdi_Z",
        "outputId": "64ea90ad-d5f2-434c-ed22-f9dbba9531cd"
      },
      "id": "oxETg1Tzdi_Z",
      "execution_count": 56,
      "outputs": [
        {
          "output_type": "execute_result",
          "data": {
            "text/plain": [
              "[tensor(9436),\n",
              " tensor(9594),\n",
              " tensor(9694),\n",
              " tensor(9705),\n",
              " tensor(9756),\n",
              " tensor(9758),\n",
              " tensor(9775),\n",
              " tensor(9776),\n",
              " tensor(9750),\n",
              " tensor(9774)]"
            ]
          },
          "metadata": {},
          "execution_count": 56
        }
      ]
    },
    {
      "cell_type": "code",
      "source": [
        "test_acc = [t/100 for t in test_correct]"
      ],
      "metadata": {
        "id": "zvfttF_yeO6A"
      },
      "id": "zvfttF_yeO6A",
      "execution_count": 59,
      "outputs": []
    },
    {
      "cell_type": "code",
      "source": [
        "plt.plot(train_acc, label=\"train acc\")\n",
        "plt.plot(test_acc, label=\"test acc\")\n",
        "plt.legend()"
      ],
      "metadata": {
        "colab": {
          "base_uri": "https://localhost:8080/",
          "height": 447
        },
        "id": "LWc9zviufPRm",
        "outputId": "97230527-8644-4985-a36e-8bd299a021a2"
      },
      "id": "LWc9zviufPRm",
      "execution_count": 60,
      "outputs": [
        {
          "output_type": "execute_result",
          "data": {
            "text/plain": [
              "<matplotlib.legend.Legend at 0x7fda25dbdba0>"
            ]
          },
          "metadata": {},
          "execution_count": 60
        },
        {
          "output_type": "display_data",
          "data": {
            "text/plain": [
              "<Figure size 640x480 with 1 Axes>"
            ],
            "image/png": "[encoded data removed]"
          },
          "metadata": {}
        }
      ]
    },
    {
      "cell_type": "markdown",
      "source": [
        "## New Unseen Dataset"
      ],
      "metadata": {
        "id": "OAyj2d1QgDuN"
      },
      "id": "OAyj2d1QgDuN"
    },
    {
      "cell_type": "code",
      "source": [
        "test_load_all = DataLoader(test_data, batch_size=10000, shuffle=False)"
      ],
      "metadata": {
        "id": "UYGmyJZ-fjDR"
      },
      "id": "UYGmyJZ-fjDR",
      "execution_count": 61,
      "outputs": []
    },
    {
      "cell_type": "code",
      "source": [
        "with torch.no_grad():\n",
        "  correct = 0\n",
        "\n",
        "  for X_test, y_test in test_load_all:\n",
        "\n",
        "    y_val = model(X_test.view(len(X_test), -1))\n",
        "    predicted = torch.max(y_val,1)[1]\n",
        "    correct += (predicted == y_test).sum()"
      ],
      "metadata": {
        "id": "Of8J8Y8PgVSo"
      },
      "id": "Of8J8Y8PgVSo",
      "execution_count": 62,
      "outputs": []
    },
    {
      "cell_type": "code",
      "source": [
        "correct"
      ],
      "metadata": {
        "id": "kiaKX1wfht8U",
        "outputId": "7c231aec-716e-47b2-a3b1-865c986c99f4",
        "colab": {
          "base_uri": "https://localhost:8080/"
        }
      },
      "id": "kiaKX1wfht8U",
      "execution_count": 63,
      "outputs": [
        {
          "output_type": "execute_result",
          "data": {
            "text/plain": [
              "tensor(9774)"
            ]
          },
          "metadata": {},
          "execution_count": 63
        }
      ]
    },
    {
      "cell_type": "code",
      "source": [
        "correct.item()"
      ],
      "metadata": {
        "id": "4yyIs5NChzFW",
        "outputId": "fcddb3fc-dd7c-459c-9aac-1aa52db51faa",
        "colab": {
          "base_uri": "https://localhost:8080/"
        }
      },
      "id": "4yyIs5NChzFW",
      "execution_count": 67,
      "outputs": [
        {
          "output_type": "execute_result",
          "data": {
            "text/plain": [
              "9774"
            ]
          },
          "metadata": {},
          "execution_count": 67
        }
      ]
    },
    {
      "cell_type": "code",
      "source": [
        "correct.numel()"
      ],
      "metadata": {
        "id": "7BqkaLv5iTrZ",
        "outputId": "79f5257a-523e-4d64-ab77-6c749632153d",
        "colab": {
          "base_uri": "https://localhost:8080/"
        }
      },
      "id": "7BqkaLv5iTrZ",
      "execution_count": 68,
      "outputs": [
        {
          "output_type": "execute_result",
          "data": {
            "text/plain": [
              "1"
            ]
          },
          "metadata": {},
          "execution_count": 68
        }
      ]
    },
    {
      "cell_type": "code",
      "source": [
        "correct.item()/len(test_data)"
      ],
      "metadata": {
        "id": "OTua3FrfiW8A",
        "outputId": "a6735eb2-dcac-4a79-87d0-71f1c09eae69",
        "colab": {
          "base_uri": "https://localhost:8080/"
        }
      },
      "id": "OTua3FrfiW8A",
      "execution_count": 69,
      "outputs": [
        {
          "output_type": "execute_result",
          "data": {
            "text/plain": [
              "0.9774"
            ]
          },
          "metadata": {},
          "execution_count": 69
        }
      ]
    },
    {
      "cell_type": "code",
      "source": [
        "confusion_matrix(predicted.view(-1), y_test.view(-1))"
      ],
      "metadata": {
        "id": "d3MCCCCLien4",
        "outputId": "2d51c65b-be53-4916-fdad-9a7a3fce9749",
        "colab": {
          "base_uri": "https://localhost:8080/"
        }
      },
      "id": "d3MCCCCLien4",
      "execution_count": 70,
      "outputs": [
        {
          "output_type": "execute_result",
          "data": {
            "text/plain": [
              "array([[ 971,    0,    3,    0,    1,    2,    5,    2,    4,    2],\n",
              "       [   0, 1123,    3,    0,    0,    0,    3,    6,    0,    2],\n",
              "       [   1,    3, 1001,    2,    1,    0,    1,    8,    4,    0],\n",
              "       [   2,    2,    7,  989,    0,    9,    1,    4,    3,    4],\n",
              "       [   1,    0,    3,    0,  965,    2,    4,    3,    3,   10],\n",
              "       [   0,    0,    0,    8,    0,  865,    3,    1,    3,    2],\n",
              "       [   1,    2,    1,    0,    6,    4,  940,    1,    1,    0],\n",
              "       [   0,    0,    4,    4,    1,    0,    0,  985,    2,    0],\n",
              "       [   3,    5,   10,    2,    0,    7,    1,    2,  949,    3],\n",
              "       [   1,    0,    0,    5,    8,    3,    0,   16,    5,  986]])"
            ]
          },
          "metadata": {},
          "execution_count": 70
        }
      ]
    },
    {
      "cell_type": "code",
      "source": [],
      "metadata": {
        "id": "xEpYBbahi-FF",
        "outputId": "b8228041-42ef-407a-b467-6905d10ef93b",
        "colab": {
          "base_uri": "https://localhost:8080/"
        }
      },
      "id": "xEpYBbahi-FF",
      "execution_count": 71,
      "outputs": [
        {
          "output_type": "execute_result",
          "data": {
            "text/plain": [
              "tensor([7, 2, 1,  ..., 4, 5, 6])"
            ]
          },
          "metadata": {},
          "execution_count": 71
        }
      ]
    }
  ],
  "metadata": {
    "kernelspec": {
      "display_name": "Python 3 (ipykernel)",
      "language": "python",
      "name": "python3"
    },
    "language_info": {
      "codemirror_mode": {
        "name": "ipython",
        "version": 3
      },
      "file_extension": ".py",
      "mimetype": "text/x-python",
      "name": "python",
      "nbconvert_exporter": "python",
      "pygments_lexer": "ipython3",
      "version": "3.9.12"
    },
    "colab": {
      "provenance": []
    }
  },
  "nbformat": 4,
  "nbformat_minor": 5
}