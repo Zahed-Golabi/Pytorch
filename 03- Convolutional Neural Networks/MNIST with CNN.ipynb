{
  "cells": [
    {
      "cell_type": "markdown",
      "id": "f75223fc",
      "metadata": {
        "id": "f75223fc"
      },
      "source": [
        "# MNIST with CNN"
      ]
    },
    {
      "cell_type": "code",
      "execution_count": 1,
      "id": "caf148e5",
      "metadata": {
        "id": "caf148e5"
      },
      "outputs": [],
      "source": [
        "import numpy as np\n",
        "import pandas as pd\n",
        "import matplotlib.pyplot as plt\n",
        "%matplotlib inline"
      ]
    },
    {
      "cell_type": "code",
      "execution_count": 2,
      "id": "c1294f54",
      "metadata": {
        "id": "c1294f54"
      },
      "outputs": [],
      "source": [
        "import torch\n",
        "import torch.nn as nn\n",
        "import torch.nn.functional as F\n",
        "from torch.utils.data import DataLoader\n",
        "from torchvision import datasets, transforms\n",
        "from torchvision.utils import make_grid"
      ]
    },
    {
      "cell_type": "markdown",
      "source": [
        "## Load Dataset"
      ],
      "metadata": {
        "id": "dmR5-TBDI5Vh"
      },
      "id": "dmR5-TBDI5Vh"
    },
    {
      "cell_type": "code",
      "execution_count": 3,
      "id": "4931f426",
      "metadata": {
        "id": "4931f426"
      },
      "outputs": [],
      "source": [
        "transform = transforms.ToTensor()"
      ]
    },
    {
      "cell_type": "code",
      "execution_count": 4,
      "id": "d2f766b7",
      "metadata": {
        "colab": {
          "base_uri": "https://localhost:8080/"
        },
        "id": "d2f766b7",
        "outputId": "3d88f3a4-0728-43b8-deb8-8af8b61025bd"
      },
      "outputs": [
        {
          "output_type": "stream",
          "name": "stdout",
          "text": [
            "Downloading http://yann.lecun.com/exdb/mnist/train-images-idx3-ubyte.gz\n",
            "Downloading http://yann.lecun.com/exdb/mnist/train-images-idx3-ubyte.gz to /Dataset/MNIST/raw/train-images-idx3-ubyte.gz\n"
          ]
        },
        {
          "output_type": "stream",
          "name": "stderr",
          "text": [
            "100%|██████████| 9912422/9912422 [00:00<00:00, 78690460.29it/s]\n"
          ]
        },
        {
          "output_type": "stream",
          "name": "stdout",
          "text": [
            "Extracting /Dataset/MNIST/raw/train-images-idx3-ubyte.gz to /Dataset/MNIST/raw\n",
            "\n",
            "Downloading http://yann.lecun.com/exdb/mnist/train-labels-idx1-ubyte.gz\n",
            "Downloading http://yann.lecun.com/exdb/mnist/train-labels-idx1-ubyte.gz to /Dataset/MNIST/raw/train-labels-idx1-ubyte.gz\n"
          ]
        },
        {
          "output_type": "stream",
          "name": "stderr",
          "text": [
            "100%|██████████| 28881/28881 [00:00<00:00, 82856151.73it/s]\n"
          ]
        },
        {
          "output_type": "stream",
          "name": "stdout",
          "text": [
            "Extracting /Dataset/MNIST/raw/train-labels-idx1-ubyte.gz to /Dataset/MNIST/raw\n",
            "\n",
            "Downloading http://yann.lecun.com/exdb/mnist/t10k-images-idx3-ubyte.gz\n",
            "Downloading http://yann.lecun.com/exdb/mnist/t10k-images-idx3-ubyte.gz to /Dataset/MNIST/raw/t10k-images-idx3-ubyte.gz\n"
          ]
        },
        {
          "output_type": "stream",
          "name": "stderr",
          "text": [
            "100%|██████████| 1648877/1648877 [00:00<00:00, 21390964.67it/s]\n"
          ]
        },
        {
          "output_type": "stream",
          "name": "stdout",
          "text": [
            "Extracting /Dataset/MNIST/raw/t10k-images-idx3-ubyte.gz to /Dataset/MNIST/raw\n",
            "\n",
            "Downloading http://yann.lecun.com/exdb/mnist/t10k-labels-idx1-ubyte.gz\n",
            "Downloading http://yann.lecun.com/exdb/mnist/t10k-labels-idx1-ubyte.gz to /Dataset/MNIST/raw/t10k-labels-idx1-ubyte.gz\n"
          ]
        },
        {
          "output_type": "stream",
          "name": "stderr",
          "text": [
            "100%|██████████| 4542/4542 [00:00<00:00, 13814741.67it/s]\n"
          ]
        },
        {
          "output_type": "stream",
          "name": "stdout",
          "text": [
            "Extracting /Dataset/MNIST/raw/t10k-labels-idx1-ubyte.gz to /Dataset/MNIST/raw\n",
            "\n"
          ]
        }
      ],
      "source": [
        "train_data = datasets.MNIST(root=\"/Dataset\", train=True, download=True, transform=transform)"
      ]
    },
    {
      "cell_type": "code",
      "execution_count": 5,
      "id": "a555f899",
      "metadata": {
        "id": "a555f899"
      },
      "outputs": [],
      "source": [
        "test_data = datasets.MNIST(root=\"/Dataset\", train=False, download=True, transform=transform)"
      ]
    },
    {
      "cell_type": "code",
      "execution_count": 6,
      "id": "a7ef2a4a",
      "metadata": {
        "colab": {
          "base_uri": "https://localhost:8080/"
        },
        "id": "a7ef2a4a",
        "outputId": "357ef873-3ce1-4097-a84f-e1ac7c135540"
      },
      "outputs": [
        {
          "output_type": "execute_result",
          "data": {
            "text/plain": [
              "Dataset MNIST\n",
              "    Number of datapoints: 60000\n",
              "    Root location: /Dataset\n",
              "    Split: Train\n",
              "    StandardTransform\n",
              "Transform: ToTensor()"
            ]
          },
          "metadata": {},
          "execution_count": 6
        }
      ],
      "source": [
        "train_data"
      ]
    },
    {
      "cell_type": "code",
      "source": [
        "test_data"
      ],
      "metadata": {
        "colab": {
          "base_uri": "https://localhost:8080/"
        },
        "id": "5W2b-P1lKITm",
        "outputId": "22432661-4f7d-4d3c-fee7-b2be5e6e3441"
      },
      "id": "5W2b-P1lKITm",
      "execution_count": 7,
      "outputs": [
        {
          "output_type": "execute_result",
          "data": {
            "text/plain": [
              "Dataset MNIST\n",
              "    Number of datapoints: 10000\n",
              "    Root location: /Dataset\n",
              "    Split: Test\n",
              "    StandardTransform\n",
              "Transform: ToTensor()"
            ]
          },
          "metadata": {},
          "execution_count": 7
        }
      ]
    },
    {
      "cell_type": "code",
      "source": [
        "train_loader = DataLoader(train_data, batch_size=10, shuffle=True)"
      ],
      "metadata": {
        "id": "7njjCpMLKKP6"
      },
      "id": "7njjCpMLKKP6",
      "execution_count": 8,
      "outputs": []
    },
    {
      "cell_type": "code",
      "source": [
        "test_loader = DataLoader(test_data, batch_size=10, shuffle=False)"
      ],
      "metadata": {
        "id": "4srRDCbNKdos"
      },
      "id": "4srRDCbNKdos",
      "execution_count": 9,
      "outputs": []
    },
    {
      "cell_type": "markdown",
      "source": [
        "## Define Model"
      ],
      "metadata": {
        "id": "FwlftF6PLQeG"
      },
      "id": "FwlftF6PLQeG"
    },
    {
      "cell_type": "code",
      "source": [
        "# 1 COLOR CHANNE, 6 FILTERS (OUTPUT CHANNELS), 3*3 KERNEL, STRIDE=1\n",
        "conv1 = nn.Conv2d(1,6,3,1)   # ----> 6 filters, ---> pooling ---> conv2\n",
        "\n",
        "# 6 Input Filters Conv1, 16 filters, 3*3, stride=1\n",
        "conv2 = nn.Conv2d(6,16,3,1)"
      ],
      "metadata": {
        "id": "3iuuJyLeKqhh"
      },
      "id": "3iuuJyLeKqhh",
      "execution_count": 10,
      "outputs": []
    },
    {
      "cell_type": "code",
      "source": [
        "# First batch\n",
        "for b,(X_train, y_train) in enumerate(train_data):\n",
        "  break"
      ],
      "metadata": {
        "id": "WLJFwhciOOQr"
      },
      "id": "WLJFwhciOOQr",
      "execution_count": 11,
      "outputs": []
    },
    {
      "cell_type": "code",
      "source": [
        "X_train.shape"
      ],
      "metadata": {
        "id": "lZPvU5u0O_Eq",
        "outputId": "a900ae5f-2fd8-4912-9066-deaf331ac640",
        "colab": {
          "base_uri": "https://localhost:8080/"
        }
      },
      "id": "lZPvU5u0O_Eq",
      "execution_count": 12,
      "outputs": [
        {
          "output_type": "execute_result",
          "data": {
            "text/plain": [
              "torch.Size([1, 28, 28])"
            ]
          },
          "metadata": {},
          "execution_count": 12
        }
      ]
    },
    {
      "cell_type": "code",
      "source": [
        "y_train"
      ],
      "metadata": {
        "id": "NCD7kQPQPBIW",
        "outputId": "383c07e6-8b24-43ad-a753-4bcf3ecfc005",
        "colab": {
          "base_uri": "https://localhost:8080/"
        }
      },
      "id": "NCD7kQPQPBIW",
      "execution_count": 13,
      "outputs": [
        {
          "output_type": "execute_result",
          "data": {
            "text/plain": [
              "5"
            ]
          },
          "metadata": {},
          "execution_count": 13
        }
      ]
    },
    {
      "cell_type": "code",
      "source": [
        "x = X_train.view(1,1,28,28)  # ----> 4d batch (batch of 1 image)"
      ],
      "metadata": {
        "id": "s8b-AU2AQFh9"
      },
      "id": "s8b-AU2AQFh9",
      "execution_count": 14,
      "outputs": []
    },
    {
      "cell_type": "code",
      "source": [
        "x = F.relu(conv1(x))"
      ],
      "metadata": {
        "id": "ba7Ja5o7RxXz"
      },
      "id": "ba7Ja5o7RxXz",
      "execution_count": 15,
      "outputs": []
    },
    {
      "cell_type": "code",
      "source": [
        "x.shape"
      ],
      "metadata": {
        "id": "u3aVEhMKSHWY",
        "outputId": "9f19990e-9c08-4d0a-ef65-cd07c07ff49c",
        "colab": {
          "base_uri": "https://localhost:8080/"
        }
      },
      "id": "u3aVEhMKSHWY",
      "execution_count": 16,
      "outputs": [
        {
          "output_type": "execute_result",
          "data": {
            "text/plain": [
              "torch.Size([1, 6, 26, 26])"
            ]
          },
          "metadata": {},
          "execution_count": 16
        }
      ]
    },
    {
      "cell_type": "code",
      "source": [
        "x = F.max_pool2d(x,2,2)"
      ],
      "metadata": {
        "id": "rS3oZb69SrGb"
      },
      "id": "rS3oZb69SrGb",
      "execution_count": 17,
      "outputs": []
    },
    {
      "cell_type": "code",
      "source": [
        "x.shape"
      ],
      "metadata": {
        "id": "gljiHXNgWjrx",
        "outputId": "1449fce0-088d-411e-cee3-e0261d22a766",
        "colab": {
          "base_uri": "https://localhost:8080/"
        }
      },
      "id": "gljiHXNgWjrx",
      "execution_count": 18,
      "outputs": [
        {
          "output_type": "execute_result",
          "data": {
            "text/plain": [
              "torch.Size([1, 6, 13, 13])"
            ]
          },
          "metadata": {},
          "execution_count": 18
        }
      ]
    },
    {
      "cell_type": "code",
      "source": [
        "x = F.relu(conv2(x))"
      ],
      "metadata": {
        "id": "fUEQIro5W0Me"
      },
      "id": "fUEQIro5W0Me",
      "execution_count": 19,
      "outputs": []
    },
    {
      "cell_type": "code",
      "source": [
        "x.shape"
      ],
      "metadata": {
        "id": "N5vZ91zNXPqx",
        "outputId": "fc9c2fa3-d4bc-4b8b-9ffd-a4ba5866beb0",
        "colab": {
          "base_uri": "https://localhost:8080/"
        }
      },
      "id": "N5vZ91zNXPqx",
      "execution_count": 20,
      "outputs": [
        {
          "output_type": "execute_result",
          "data": {
            "text/plain": [
              "torch.Size([1, 16, 11, 11])"
            ]
          },
          "metadata": {},
          "execution_count": 20
        }
      ]
    },
    {
      "cell_type": "code",
      "source": [
        "x = F.max_pool2d(x,2,2)"
      ],
      "metadata": {
        "id": "GvVehBXlXb2h"
      },
      "id": "GvVehBXlXb2h",
      "execution_count": 21,
      "outputs": []
    },
    {
      "cell_type": "code",
      "source": [
        "x.shape"
      ],
      "metadata": {
        "id": "EVeFJRAsXmMu",
        "outputId": "e7b77ed0-a36e-436d-b13f-9305a87e74de",
        "colab": {
          "base_uri": "https://localhost:8080/"
        }
      },
      "id": "EVeFJRAsXmMu",
      "execution_count": 22,
      "outputs": [
        {
          "output_type": "execute_result",
          "data": {
            "text/plain": [
              "torch.Size([1, 16, 5, 5])"
            ]
          },
          "metadata": {},
          "execution_count": 22
        }
      ]
    },
    {
      "cell_type": "code",
      "source": [
        "x.view(-1,16*5*5).shape"
      ],
      "metadata": {
        "id": "rf9HtHHgXoTX",
        "outputId": "a5c44e3b-441e-4e36-8b9d-6646249dca0f",
        "colab": {
          "base_uri": "https://localhost:8080/"
        }
      },
      "id": "rf9HtHHgXoTX",
      "execution_count": 23,
      "outputs": [
        {
          "output_type": "execute_result",
          "data": {
            "text/plain": [
              "torch.Size([1, 400])"
            ]
          },
          "metadata": {},
          "execution_count": 23
        }
      ]
    },
    {
      "cell_type": "code",
      "source": [
        "x.shape"
      ],
      "metadata": {
        "id": "js2r_WSKYjF2",
        "outputId": "53afa263-2320-4e59-bcda-a93ea5670ec1",
        "colab": {
          "base_uri": "https://localhost:8080/"
        }
      },
      "id": "js2r_WSKYjF2",
      "execution_count": 24,
      "outputs": [
        {
          "output_type": "execute_result",
          "data": {
            "text/plain": [
              "torch.Size([1, 16, 5, 5])"
            ]
          },
          "metadata": {},
          "execution_count": 24
        }
      ]
    },
    {
      "cell_type": "markdown",
      "source": [
        "## Convolutional Neural Network Class"
      ],
      "metadata": {
        "id": "Xjeh_UwpMPf6"
      },
      "id": "Xjeh_UwpMPf6"
    },
    {
      "cell_type": "code",
      "source": [
        "class ConvolutionalNeuralNetwork(nn.Module):\n",
        "\n",
        "  def __init__(self):\n",
        "    super().__init__()\n",
        "    self.conv1 = nn.Conv2d(1, 6, 3, 1)\n",
        "    self.conv2 = nn.Conv2d(6, 16, 3, 1)\n",
        "    self.fc1 = nn.Linear(5*5*16, 120)\n",
        "    self.fc2 = nn.Linear(120, 84)\n",
        "    self.fc3 = nn.Linear(84, 10)\n",
        "\n",
        "  def forward(self, X):\n",
        "    X = F.relu(self.conv1(X))\n",
        "    X = F.max_pool2d(X, 2, 2)\n",
        "    X = F.relu(self.conv2(X))\n",
        "    X = F.max_pool2d(X, 2, 2)\n",
        "    X = X.view(-1, 16*5*5)       # Flatten output\n",
        "    X = F.relu(self.fc1(X))\n",
        "    X = F.relu(self.fc2(X))\n",
        "    X = self.fc3(X)\n",
        "    return F.log_softmax(X, dim=1)\n",
        "\n"
      ],
      "metadata": {
        "id": "BTsoV1cFYm8P"
      },
      "id": "BTsoV1cFYm8P",
      "execution_count": 25,
      "outputs": []
    },
    {
      "cell_type": "markdown",
      "source": [
        "## Create Model"
      ],
      "metadata": {
        "id": "dPYN9dSTQRDl"
      },
      "id": "dPYN9dSTQRDl"
    },
    {
      "cell_type": "code",
      "source": [
        "model = ConvolutionalNeuralNetwork()"
      ],
      "metadata": {
        "id": "iP6qRbYqQDin"
      },
      "id": "iP6qRbYqQDin",
      "execution_count": 26,
      "outputs": []
    },
    {
      "cell_type": "code",
      "source": [
        "model"
      ],
      "metadata": {
        "colab": {
          "base_uri": "https://localhost:8080/"
        },
        "id": "I2fZzqdsQaEC",
        "outputId": "6c4933ba-f1d1-4427-839e-f24f3972f8a9"
      },
      "id": "I2fZzqdsQaEC",
      "execution_count": 28,
      "outputs": [
        {
          "output_type": "execute_result",
          "data": {
            "text/plain": [
              "ConvolutionalNeuralNetwork(\n",
              "  (conv1): Conv2d(1, 6, kernel_size=(3, 3), stride=(1, 1))\n",
              "  (conv2): Conv2d(6, 16, kernel_size=(3, 3), stride=(1, 1))\n",
              "  (fc1): Linear(in_features=400, out_features=120, bias=True)\n",
              "  (fc2): Linear(in_features=120, out_features=84, bias=True)\n",
              "  (fc3): Linear(in_features=84, out_features=10, bias=True)\n",
              ")"
            ]
          },
          "metadata": {},
          "execution_count": 28
        }
      ]
    },
    {
      "cell_type": "code",
      "source": [
        "for param in model.parameters():\n",
        "  print(param.numel())"
      ],
      "metadata": {
        "colab": {
          "base_uri": "https://localhost:8080/"
        },
        "id": "WK_MGTn0QoJ0",
        "outputId": "44b7a4eb-499c-4bb2-f6a9-086b5b6e06bd"
      },
      "id": "WK_MGTn0QoJ0",
      "execution_count": 29,
      "outputs": [
        {
          "output_type": "stream",
          "name": "stdout",
          "text": [
            "54\n",
            "6\n",
            "864\n",
            "16\n",
            "48000\n",
            "120\n",
            "10080\n",
            "84\n",
            "840\n",
            "10\n"
          ]
        }
      ]
    },
    {
      "cell_type": "markdown",
      "source": [
        "## Optimizer"
      ],
      "metadata": {
        "id": "0cwtZo98RfpQ"
      },
      "id": "0cwtZo98RfpQ"
    },
    {
      "cell_type": "code",
      "source": [
        "criterion = nn.CrossEntropyLoss()\n",
        "optimizer = torch.optim.Adam(model.parameters(), lr=0.001)"
      ],
      "metadata": {
        "id": "D3f03sSPQ9f3"
      },
      "id": "D3f03sSPQ9f3",
      "execution_count": 30,
      "outputs": []
    },
    {
      "cell_type": "markdown",
      "source": [
        "## Train Model"
      ],
      "metadata": {
        "id": "xovRxLsERyAJ"
      },
      "id": "xovRxLsERyAJ"
    },
    {
      "cell_type": "code",
      "source": [
        "import time\n",
        "\n",
        "start_time = time.time()\n",
        "\n",
        "# Trackers\n",
        "epochs = 5\n",
        "train_losses = []\n",
        "test_losses = []\n",
        "train_correct = []\n",
        "test_correct = []\n",
        "\n",
        "# For Loop Epochs\n",
        "for epoch in range(epochs):\n",
        "\n",
        "  trn_corr = 0\n",
        "  tst_corr = 0\n",
        "\n",
        "  # Train\n",
        "  for btch,(X_train, y_train) in enumerate(train_loader):\n",
        "\n",
        "    b+=1\n",
        "\n",
        "    y_pred = model(X_train)  # Not Flatten because 2d\n",
        "    loss = criterion(y_pred, y_train)  # One hot encoded\n",
        "\n",
        "    predicted = torch.max(y_pred, 1)[1]\n",
        "    batch_corr = (predicted == y_train).sum()\n",
        "    trn_corr += batch_corr\n",
        "\n",
        "    # backward propagation\n",
        "    optimizer.zero_grad()\n",
        "    loss.backward()\n",
        "    optimizer.step()\n",
        "\n",
        "    if btch%600 == 0:\n",
        "      print(f\"EPOCH: {epoch+1} BATCH: {btch} LOSS: {loss.item()}\")\n",
        "\n",
        "  train_losses.append(loss)\n",
        "  train_correct.append(trn_corr)\n",
        "\n",
        "  # Test\n",
        "  with torch.no_grad():\n",
        "    for btch,(X_test, y_test) in enumerate(test_loader):\n",
        "\n",
        "      y_val = model(X_test)\n",
        "      # loss = criterion(y_val, y_test) no backward propagation needed\n",
        "\n",
        "      predicted = torch.max(y_val, 1)[1]\n",
        "      batch_corr = (predicted == y_test).sum()\n",
        "      tst_corr += batch_corr\n",
        "\n",
        "  loss = criterion(y_val, y_test)\n",
        "  test_losses.append(loss)\n",
        "  test_correct.append(tst_corr)\n",
        "\n",
        "\n",
        "current_time = time.time()\n",
        "total_time = current_time - start_time\n",
        "print(f\"Training took {total_time/60} minutes\")"
      ],
      "metadata": {
        "colab": {
          "base_uri": "https://localhost:8080/"
        },
        "id": "CLFqJJIzQ9eo",
        "outputId": "8ce886a1-35bf-4550-dcc0-1d95ea6fd8ce"
      },
      "id": "CLFqJJIzQ9eo",
      "execution_count": 34,
      "outputs": [
        {
          "output_type": "stream",
          "name": "stdout",
          "text": [
            "EPOCH: 1 BATCH: 0 LOSS: 0.0010597073705866933\n",
            "EPOCH: 1 BATCH: 600 LOSS: 4.7274228563765064e-05\n",
            "EPOCH: 1 BATCH: 1200 LOSS: 9.09436130314134e-05\n",
            "EPOCH: 1 BATCH: 1800 LOSS: 0.0004386386426631361\n",
            "EPOCH: 1 BATCH: 2400 LOSS: 0.0008024975541047752\n",
            "EPOCH: 1 BATCH: 3000 LOSS: 0.00055913400137797\n",
            "EPOCH: 1 BATCH: 3600 LOSS: 0.0012002229923382401\n",
            "EPOCH: 1 BATCH: 4200 LOSS: 0.0003733456542249769\n",
            "EPOCH: 1 BATCH: 4800 LOSS: 0.00010808433580677956\n",
            "EPOCH: 1 BATCH: 5400 LOSS: 2.9883613024139777e-05\n",
            "EPOCH: 2 BATCH: 0 LOSS: 0.005421784706413746\n",
            "EPOCH: 2 BATCH: 600 LOSS: 0.0009100051829591393\n",
            "EPOCH: 2 BATCH: 1200 LOSS: 0.020889276638627052\n",
            "EPOCH: 2 BATCH: 1800 LOSS: 5.734777732868679e-05\n",
            "EPOCH: 2 BATCH: 2400 LOSS: 1.712979792500846e-05\n",
            "EPOCH: 2 BATCH: 3000 LOSS: 2.03827912628185e-05\n",
            "EPOCH: 2 BATCH: 3600 LOSS: 7.149671000661328e-05\n",
            "EPOCH: 2 BATCH: 4200 LOSS: 1.4209032997314353e-05\n",
            "EPOCH: 2 BATCH: 4800 LOSS: 0.0032544140703976154\n",
            "EPOCH: 2 BATCH: 5400 LOSS: 0.0014174871612340212\n",
            "EPOCH: 3 BATCH: 0 LOSS: 0.00021033387747593224\n",
            "EPOCH: 3 BATCH: 600 LOSS: 0.00023544521536678076\n",
            "EPOCH: 3 BATCH: 1200 LOSS: 0.00021018002007622272\n",
            "EPOCH: 3 BATCH: 1800 LOSS: 0.025096291676163673\n",
            "EPOCH: 3 BATCH: 2400 LOSS: 0.13789992034435272\n",
            "EPOCH: 3 BATCH: 3000 LOSS: 0.0040623489767313\n",
            "EPOCH: 3 BATCH: 3600 LOSS: 0.006497674621641636\n",
            "EPOCH: 3 BATCH: 4200 LOSS: 5.827819768455811e-05\n",
            "EPOCH: 3 BATCH: 4800 LOSS: 0.08802041411399841\n",
            "EPOCH: 3 BATCH: 5400 LOSS: 1.0418520105304196e-05\n",
            "EPOCH: 4 BATCH: 0 LOSS: 0.0002669302630238235\n",
            "EPOCH: 4 BATCH: 600 LOSS: 5.876962859474588e-06\n",
            "EPOCH: 4 BATCH: 1200 LOSS: 1.1241106221859809e-05\n",
            "EPOCH: 4 BATCH: 1800 LOSS: 0.0005373475141823292\n",
            "EPOCH: 4 BATCH: 2400 LOSS: 0.00015711874584667385\n",
            "EPOCH: 4 BATCH: 3000 LOSS: 5.0544176701805554e-06\n",
            "EPOCH: 4 BATCH: 3600 LOSS: 0.0005333832232281566\n",
            "EPOCH: 4 BATCH: 4200 LOSS: 4.291445293347351e-06\n",
            "EPOCH: 4 BATCH: 4800 LOSS: 0.00020938320085406303\n",
            "EPOCH: 4 BATCH: 5400 LOSS: 0.0006866801413707435\n",
            "EPOCH: 5 BATCH: 0 LOSS: 4.677223114413209e-05\n",
            "EPOCH: 5 BATCH: 600 LOSS: 9.032234083861113e-05\n",
            "EPOCH: 5 BATCH: 1200 LOSS: 0.0005839308723807335\n",
            "EPOCH: 5 BATCH: 1800 LOSS: 0.08595064282417297\n",
            "EPOCH: 5 BATCH: 2400 LOSS: 0.0009085360798053443\n",
            "EPOCH: 5 BATCH: 3000 LOSS: 0.02089785598218441\n",
            "EPOCH: 5 BATCH: 3600 LOSS: 1.386310214002151e-05\n",
            "EPOCH: 5 BATCH: 4200 LOSS: 0.00011486823495943099\n",
            "EPOCH: 5 BATCH: 4800 LOSS: 0.00010231368651147932\n",
            "EPOCH: 5 BATCH: 5400 LOSS: 1.7404430536771542e-06\n",
            "Training took 3.6787585457166037 minutes\n"
          ]
        }
      ]
    }
  ],
  "metadata": {
    "kernelspec": {
      "display_name": "Python 3 (ipykernel)",
      "language": "python",
      "name": "python3"
    },
    "language_info": {
      "codemirror_mode": {
        "name": "ipython",
        "version": 3
      },
      "file_extension": ".py",
      "mimetype": "text/x-python",
      "name": "python",
      "nbconvert_exporter": "python",
      "pygments_lexer": "ipython3",
      "version": "3.9.12"
    },
    "colab": {
      "provenance": []
    }
  },
  "nbformat": 4,
  "nbformat_minor": 5
}