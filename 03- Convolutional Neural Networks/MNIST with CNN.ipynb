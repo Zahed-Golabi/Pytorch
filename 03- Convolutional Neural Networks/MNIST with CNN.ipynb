{
  "cells": [
    {
      "cell_type": "markdown",
      "id": "f75223fc",
      "metadata": {
        "id": "f75223fc"
      },
      "source": [
        "# MNIST with CNN"
      ]
    },
    {
      "cell_type": "code",
      "execution_count": 1,
      "id": "caf148e5",
      "metadata": {
        "id": "caf148e5"
      },
      "outputs": [],
      "source": [
        "import numpy as np\n",
        "import pandas as pd\n",
        "import matplotlib.pyplot as plt\n",
        "%matplotlib inline"
      ]
    },
    {
      "cell_type": "code",
      "execution_count": 2,
      "id": "c1294f54",
      "metadata": {
        "id": "c1294f54"
      },
      "outputs": [],
      "source": [
        "import torch\n",
        "import torch.nn as nn\n",
        "import torch.nn.functional as F\n",
        "from torch.utils.data import DataLoader\n",
        "from torchvision import datasets, transforms\n",
        "from torchvision.utils import make_grid"
      ]
    },
    {
      "cell_type": "markdown",
      "source": [
        "## Load Dataset"
      ],
      "metadata": {
        "id": "dmR5-TBDI5Vh"
      },
      "id": "dmR5-TBDI5Vh"
    },
    {
      "cell_type": "code",
      "execution_count": 3,
      "id": "4931f426",
      "metadata": {
        "id": "4931f426"
      },
      "outputs": [],
      "source": [
        "transform = transforms.ToTensor()"
      ]
    },
    {
      "cell_type": "code",
      "execution_count": 4,
      "id": "d2f766b7",
      "metadata": {
        "colab": {
          "base_uri": "https://localhost:8080/"
        },
        "id": "d2f766b7",
        "outputId": "8d3779eb-83a3-4b4e-e3e0-10ff259bd878"
      },
      "outputs": [
        {
          "output_type": "stream",
          "name": "stdout",
          "text": [
            "Downloading http://yann.lecun.com/exdb/mnist/train-images-idx3-ubyte.gz\n",
            "Downloading http://yann.lecun.com/exdb/mnist/train-images-idx3-ubyte.gz to /Dataset/MNIST/raw/train-images-idx3-ubyte.gz\n"
          ]
        },
        {
          "output_type": "stream",
          "name": "stderr",
          "text": [
            "100%|██████████| 9912422/9912422 [00:00<00:00, 105172158.74it/s]\n"
          ]
        },
        {
          "output_type": "stream",
          "name": "stdout",
          "text": [
            "Extracting /Dataset/MNIST/raw/train-images-idx3-ubyte.gz to /Dataset/MNIST/raw\n",
            "\n",
            "Downloading http://yann.lecun.com/exdb/mnist/train-labels-idx1-ubyte.gz\n",
            "Downloading http://yann.lecun.com/exdb/mnist/train-labels-idx1-ubyte.gz to /Dataset/MNIST/raw/train-labels-idx1-ubyte.gz\n"
          ]
        },
        {
          "output_type": "stream",
          "name": "stderr",
          "text": [
            "100%|██████████| 28881/28881 [00:00<00:00, 79904811.23it/s]\n"
          ]
        },
        {
          "output_type": "stream",
          "name": "stdout",
          "text": [
            "Extracting /Dataset/MNIST/raw/train-labels-idx1-ubyte.gz to /Dataset/MNIST/raw\n",
            "\n",
            "Downloading http://yann.lecun.com/exdb/mnist/t10k-images-idx3-ubyte.gz\n",
            "Downloading http://yann.lecun.com/exdb/mnist/t10k-images-idx3-ubyte.gz to /Dataset/MNIST/raw/t10k-images-idx3-ubyte.gz\n"
          ]
        },
        {
          "output_type": "stream",
          "name": "stderr",
          "text": [
            "100%|██████████| 1648877/1648877 [00:00<00:00, 26544349.63it/s]\n"
          ]
        },
        {
          "output_type": "stream",
          "name": "stdout",
          "text": [
            "Extracting /Dataset/MNIST/raw/t10k-images-idx3-ubyte.gz to /Dataset/MNIST/raw\n",
            "\n",
            "Downloading http://yann.lecun.com/exdb/mnist/t10k-labels-idx1-ubyte.gz\n",
            "Downloading http://yann.lecun.com/exdb/mnist/t10k-labels-idx1-ubyte.gz to /Dataset/MNIST/raw/t10k-labels-idx1-ubyte.gz\n"
          ]
        },
        {
          "output_type": "stream",
          "name": "stderr",
          "text": [
            "100%|██████████| 4542/4542 [00:00<00:00, 3378352.33it/s]\n"
          ]
        },
        {
          "output_type": "stream",
          "name": "stdout",
          "text": [
            "Extracting /Dataset/MNIST/raw/t10k-labels-idx1-ubyte.gz to /Dataset/MNIST/raw\n",
            "\n"
          ]
        }
      ],
      "source": [
        "train_data = datasets.MNIST(root=\"/Dataset\", train=True, download=True, transform=transform)"
      ]
    },
    {
      "cell_type": "code",
      "execution_count": 5,
      "id": "a555f899",
      "metadata": {
        "id": "a555f899"
      },
      "outputs": [],
      "source": [
        "test_data = datasets.MNIST(root=\"/Dataset\", train=False, download=True, transform=transform)"
      ]
    },
    {
      "cell_type": "code",
      "execution_count": 6,
      "id": "a7ef2a4a",
      "metadata": {
        "colab": {
          "base_uri": "https://localhost:8080/"
        },
        "id": "a7ef2a4a",
        "outputId": "d1031c8a-96a9-4d99-f094-d00828a69718"
      },
      "outputs": [
        {
          "output_type": "execute_result",
          "data": {
            "text/plain": [
              "Dataset MNIST\n",
              "    Number of datapoints: 60000\n",
              "    Root location: /Dataset\n",
              "    Split: Train\n",
              "    StandardTransform\n",
              "Transform: ToTensor()"
            ]
          },
          "metadata": {},
          "execution_count": 6
        }
      ],
      "source": [
        "train_data"
      ]
    },
    {
      "cell_type": "code",
      "source": [
        "test_data"
      ],
      "metadata": {
        "colab": {
          "base_uri": "https://localhost:8080/"
        },
        "id": "5W2b-P1lKITm",
        "outputId": "1553b968-651c-4464-e661-003545b4d0fe"
      },
      "id": "5W2b-P1lKITm",
      "execution_count": 7,
      "outputs": [
        {
          "output_type": "execute_result",
          "data": {
            "text/plain": [
              "Dataset MNIST\n",
              "    Number of datapoints: 10000\n",
              "    Root location: /Dataset\n",
              "    Split: Test\n",
              "    StandardTransform\n",
              "Transform: ToTensor()"
            ]
          },
          "metadata": {},
          "execution_count": 7
        }
      ]
    },
    {
      "cell_type": "code",
      "source": [
        "train_loader = DataLoader(train_data, batch_size=10, shuffle=True)"
      ],
      "metadata": {
        "id": "7njjCpMLKKP6"
      },
      "id": "7njjCpMLKKP6",
      "execution_count": 8,
      "outputs": []
    },
    {
      "cell_type": "code",
      "source": [
        "test_loader = DataLoader(test_data, batch_size=10, shuffle=False)"
      ],
      "metadata": {
        "id": "4srRDCbNKdos"
      },
      "id": "4srRDCbNKdos",
      "execution_count": 9,
      "outputs": []
    },
    {
      "cell_type": "markdown",
      "source": [
        "## Define Model"
      ],
      "metadata": {
        "id": "FwlftF6PLQeG"
      },
      "id": "FwlftF6PLQeG"
    },
    {
      "cell_type": "code",
      "source": [
        "# 1 COLOR CHANNE, 6 FILTERS (OUTPUT CHANNELS), 3*3 KERNEL, STRIDE=1\n",
        "conv1 = nn.Conv2d(1,6,3,1)   # ----> 6 filters, ---> pooling ---> conv2\n",
        "\n",
        "# 6 Input Filters Conv1, 16 filters, 3*3, stride=1\n",
        "conv2 = nn.Conv2d(6,16,3,1)"
      ],
      "metadata": {
        "id": "3iuuJyLeKqhh"
      },
      "id": "3iuuJyLeKqhh",
      "execution_count": 10,
      "outputs": []
    },
    {
      "cell_type": "code",
      "source": [
        "# First batch\n",
        "for b,(X_train, y_train) in enumerate(train_data):\n",
        "  break"
      ],
      "metadata": {
        "id": "WLJFwhciOOQr"
      },
      "id": "WLJFwhciOOQr",
      "execution_count": 11,
      "outputs": []
    },
    {
      "cell_type": "code",
      "source": [
        "X_train.shape"
      ],
      "metadata": {
        "id": "lZPvU5u0O_Eq",
        "outputId": "80a73caa-6be0-4463-9210-dc6fabd0195c",
        "colab": {
          "base_uri": "https://localhost:8080/"
        }
      },
      "id": "lZPvU5u0O_Eq",
      "execution_count": 12,
      "outputs": [
        {
          "output_type": "execute_result",
          "data": {
            "text/plain": [
              "torch.Size([1, 28, 28])"
            ]
          },
          "metadata": {},
          "execution_count": 12
        }
      ]
    },
    {
      "cell_type": "code",
      "source": [
        "y_train"
      ],
      "metadata": {
        "id": "NCD7kQPQPBIW",
        "outputId": "d2dbb8d3-1a1a-48ed-e476-c1693dfa90e6",
        "colab": {
          "base_uri": "https://localhost:8080/"
        }
      },
      "id": "NCD7kQPQPBIW",
      "execution_count": 13,
      "outputs": [
        {
          "output_type": "execute_result",
          "data": {
            "text/plain": [
              "5"
            ]
          },
          "metadata": {},
          "execution_count": 13
        }
      ]
    },
    {
      "cell_type": "code",
      "source": [
        "x = X_train.view(1,1,28,28)  # ----> 4d batch (batch of 1 image)"
      ],
      "metadata": {
        "id": "s8b-AU2AQFh9"
      },
      "id": "s8b-AU2AQFh9",
      "execution_count": 14,
      "outputs": []
    },
    {
      "cell_type": "code",
      "source": [
        "x = F.relu(conv1(x))"
      ],
      "metadata": {
        "id": "ba7Ja5o7RxXz"
      },
      "id": "ba7Ja5o7RxXz",
      "execution_count": 15,
      "outputs": []
    },
    {
      "cell_type": "code",
      "source": [
        "x.shape"
      ],
      "metadata": {
        "id": "u3aVEhMKSHWY",
        "outputId": "097a97b1-dca0-44ea-b710-853f7a72b695",
        "colab": {
          "base_uri": "https://localhost:8080/"
        }
      },
      "id": "u3aVEhMKSHWY",
      "execution_count": 16,
      "outputs": [
        {
          "output_type": "execute_result",
          "data": {
            "text/plain": [
              "torch.Size([1, 6, 26, 26])"
            ]
          },
          "metadata": {},
          "execution_count": 16
        }
      ]
    },
    {
      "cell_type": "code",
      "source": [
        "x = F.max_pool2d(x,2,2)"
      ],
      "metadata": {
        "id": "rS3oZb69SrGb"
      },
      "id": "rS3oZb69SrGb",
      "execution_count": 17,
      "outputs": []
    },
    {
      "cell_type": "code",
      "source": [
        "x.shape"
      ],
      "metadata": {
        "id": "gljiHXNgWjrx",
        "outputId": "d098745e-66af-4fce-f58a-f341ea993688",
        "colab": {
          "base_uri": "https://localhost:8080/"
        }
      },
      "id": "gljiHXNgWjrx",
      "execution_count": 18,
      "outputs": [
        {
          "output_type": "execute_result",
          "data": {
            "text/plain": [
              "torch.Size([1, 6, 13, 13])"
            ]
          },
          "metadata": {},
          "execution_count": 18
        }
      ]
    },
    {
      "cell_type": "code",
      "source": [
        "x = F.relu(conv2(x))"
      ],
      "metadata": {
        "id": "fUEQIro5W0Me"
      },
      "id": "fUEQIro5W0Me",
      "execution_count": 19,
      "outputs": []
    },
    {
      "cell_type": "code",
      "source": [
        "x.shape"
      ],
      "metadata": {
        "id": "N5vZ91zNXPqx",
        "outputId": "19c3860b-86dd-4909-f7e6-18988e673919",
        "colab": {
          "base_uri": "https://localhost:8080/"
        }
      },
      "id": "N5vZ91zNXPqx",
      "execution_count": 20,
      "outputs": [
        {
          "output_type": "execute_result",
          "data": {
            "text/plain": [
              "torch.Size([1, 16, 11, 11])"
            ]
          },
          "metadata": {},
          "execution_count": 20
        }
      ]
    },
    {
      "cell_type": "code",
      "source": [
        "x = F.max_pool2d(x,2,2)"
      ],
      "metadata": {
        "id": "GvVehBXlXb2h"
      },
      "id": "GvVehBXlXb2h",
      "execution_count": 21,
      "outputs": []
    },
    {
      "cell_type": "code",
      "source": [
        "x.shape"
      ],
      "metadata": {
        "id": "EVeFJRAsXmMu",
        "outputId": "9a6f8eac-3b97-4c41-be71-11110ece200b",
        "colab": {
          "base_uri": "https://localhost:8080/"
        }
      },
      "id": "EVeFJRAsXmMu",
      "execution_count": 22,
      "outputs": [
        {
          "output_type": "execute_result",
          "data": {
            "text/plain": [
              "torch.Size([1, 16, 5, 5])"
            ]
          },
          "metadata": {},
          "execution_count": 22
        }
      ]
    },
    {
      "cell_type": "code",
      "source": [
        "x.view(-1,16*5*5).shape"
      ],
      "metadata": {
        "id": "rf9HtHHgXoTX",
        "outputId": "9cbf0cb6-e611-4671-bb04-ffafa48272b3",
        "colab": {
          "base_uri": "https://localhost:8080/"
        }
      },
      "id": "rf9HtHHgXoTX",
      "execution_count": 23,
      "outputs": [
        {
          "output_type": "execute_result",
          "data": {
            "text/plain": [
              "torch.Size([1, 400])"
            ]
          },
          "metadata": {},
          "execution_count": 23
        }
      ]
    },
    {
      "cell_type": "code",
      "source": [
        "x.shape"
      ],
      "metadata": {
        "id": "js2r_WSKYjF2",
        "outputId": "39693843-0756-4ac5-9190-58c3d9189709",
        "colab": {
          "base_uri": "https://localhost:8080/"
        }
      },
      "id": "js2r_WSKYjF2",
      "execution_count": 24,
      "outputs": [
        {
          "output_type": "execute_result",
          "data": {
            "text/plain": [
              "torch.Size([1, 16, 5, 5])"
            ]
          },
          "metadata": {},
          "execution_count": 24
        }
      ]
    },
    {
      "cell_type": "markdown",
      "source": [
        "## Convolutional Neural Network Class"
      ],
      "metadata": {
        "id": "Xjeh_UwpMPf6"
      },
      "id": "Xjeh_UwpMPf6"
    },
    {
      "cell_type": "code",
      "source": [
        "class ConvolutionalNeuralNetwork(nn.Module):\n",
        "\n",
        "  def __init__(self):\n",
        "    super().__init__()\n",
        "    self.conv1 = nn.Conv2d(1, 6, 3, 1)\n",
        "    self.conv2 = nn.Conv2d(6, 16, 3, 1)\n",
        "    self.fc1 = nn.Linear(5*5*16, 120)\n",
        "    self.fc2 = nn.Linear(120, 84)\n",
        "    self.fc3 = nn.Linear(84, 10)\n",
        "\n",
        "  def forward(self, X):\n",
        "    X = F.relu(self.conv1(X))\n",
        "    X = F.max_pool2d(X, 2, 2)\n",
        "    X = F.relu(self.conv2(X))\n",
        "    X = F.max_pool2d(X, 2, 2)\n",
        "    X = X.view(-1, 16*5*5)       # Flatten output\n",
        "    X = F.relu(self.fc1(X))\n",
        "    X = F.relu(self.fc2(X))\n",
        "    X = self.fc3(X)\n",
        "    return F.log_softmax(X, dim=1)\n",
        "\n"
      ],
      "metadata": {
        "id": "BTsoV1cFYm8P"
      },
      "id": "BTsoV1cFYm8P",
      "execution_count": 25,
      "outputs": []
    },
    {
      "cell_type": "markdown",
      "source": [
        "## Create Model"
      ],
      "metadata": {
        "id": "dPYN9dSTQRDl"
      },
      "id": "dPYN9dSTQRDl"
    },
    {
      "cell_type": "code",
      "source": [
        "model = ConvolutionalNeuralNetwork()"
      ],
      "metadata": {
        "id": "iP6qRbYqQDin"
      },
      "id": "iP6qRbYqQDin",
      "execution_count": 26,
      "outputs": []
    },
    {
      "cell_type": "code",
      "source": [
        "model"
      ],
      "metadata": {
        "colab": {
          "base_uri": "https://localhost:8080/"
        },
        "id": "I2fZzqdsQaEC",
        "outputId": "96aab941-3cdd-471a-db97-616814c33649"
      },
      "id": "I2fZzqdsQaEC",
      "execution_count": 27,
      "outputs": [
        {
          "output_type": "execute_result",
          "data": {
            "text/plain": [
              "ConvolutionalNeuralNetwork(\n",
              "  (conv1): Conv2d(1, 6, kernel_size=(3, 3), stride=(1, 1))\n",
              "  (conv2): Conv2d(6, 16, kernel_size=(3, 3), stride=(1, 1))\n",
              "  (fc1): Linear(in_features=400, out_features=120, bias=True)\n",
              "  (fc2): Linear(in_features=120, out_features=84, bias=True)\n",
              "  (fc3): Linear(in_features=84, out_features=10, bias=True)\n",
              ")"
            ]
          },
          "metadata": {},
          "execution_count": 27
        }
      ]
    },
    {
      "cell_type": "code",
      "source": [
        "for param in model.parameters():\n",
        "  print(param.numel())"
      ],
      "metadata": {
        "colab": {
          "base_uri": "https://localhost:8080/"
        },
        "id": "WK_MGTn0QoJ0",
        "outputId": "683857e2-d3b4-4421-daa6-843eed8a96e6"
      },
      "id": "WK_MGTn0QoJ0",
      "execution_count": 28,
      "outputs": [
        {
          "output_type": "stream",
          "name": "stdout",
          "text": [
            "54\n",
            "6\n",
            "864\n",
            "16\n",
            "48000\n",
            "120\n",
            "10080\n",
            "84\n",
            "840\n",
            "10\n"
          ]
        }
      ]
    },
    {
      "cell_type": "markdown",
      "source": [
        "## Optimizer"
      ],
      "metadata": {
        "id": "0cwtZo98RfpQ"
      },
      "id": "0cwtZo98RfpQ"
    },
    {
      "cell_type": "code",
      "source": [
        "criterion = nn.CrossEntropyLoss()\n",
        "optimizer = torch.optim.Adam(model.parameters(), lr=0.001)"
      ],
      "metadata": {
        "id": "D3f03sSPQ9f3"
      },
      "id": "D3f03sSPQ9f3",
      "execution_count": 29,
      "outputs": []
    },
    {
      "cell_type": "markdown",
      "source": [
        "## Train Model"
      ],
      "metadata": {
        "id": "xovRxLsERyAJ"
      },
      "id": "xovRxLsERyAJ"
    },
    {
      "cell_type": "code",
      "source": [
        "import time\n",
        "\n",
        "start_time = time.time()\n",
        "\n",
        "# Trackers\n",
        "epochs = 5\n",
        "train_losses = []\n",
        "test_losses = []\n",
        "train_correct = []\n",
        "test_correct = []\n",
        "\n",
        "# For Loop Epochs\n",
        "for epoch in range(epochs):\n",
        "\n",
        "  trn_corr = 0\n",
        "  tst_corr = 0\n",
        "\n",
        "  # Train\n",
        "  for btch,(X_train, y_train) in enumerate(train_loader):\n",
        "\n",
        "    # b+=1\n",
        "\n",
        "    y_pred = model(X_train)  # Not Flatten because 2d\n",
        "    loss = criterion(y_pred, y_train)  # One hot encoded\n",
        "\n",
        "    predicted = torch.max(y_pred, 1)[1]\n",
        "    batch_corr = (predicted == y_train).sum()\n",
        "    trn_corr += batch_corr\n",
        "\n",
        "    # backward propagation\n",
        "    optimizer.zero_grad()\n",
        "    loss.backward()\n",
        "    optimizer.step()\n",
        "\n",
        "    if btch%600 == 0:\n",
        "      print(f\"EPOCH: {epoch+1} BATCH: {btch} LOSS: {loss.item()}\")\n",
        "\n",
        "  train_losses.append(loss)\n",
        "  train_correct.append(trn_corr)\n",
        "\n",
        "  # Test\n",
        "  with torch.no_grad():\n",
        "    for btch,(X_test, y_test) in enumerate(test_loader):\n",
        "\n",
        "      y_val = model(X_test)\n",
        "      # loss = criterion(y_val, y_test) no backward propagation needed\n",
        "\n",
        "      predicted = torch.max(y_val, 1)[1]\n",
        "      batch_corr = (predicted == y_test).sum()\n",
        "      tst_corr += batch_corr\n",
        "\n",
        "  loss = criterion(y_val, y_test)\n",
        "  test_losses.append(loss)\n",
        "  test_correct.append(tst_corr)\n",
        "\n",
        "\n",
        "current_time = time.time()\n",
        "total_time = current_time - start_time\n",
        "print(f\"Training took {total_time/60} minutes\")"
      ],
      "metadata": {
        "colab": {
          "base_uri": "https://localhost:8080/"
        },
        "id": "CLFqJJIzQ9eo",
        "outputId": "33b84d89-b262-4119-e94b-30d4e23d61f8"
      },
      "id": "CLFqJJIzQ9eo",
      "execution_count": 30,
      "outputs": [
        {
          "output_type": "stream",
          "name": "stdout",
          "text": [
            "EPOCH: 1 BATCH: 0 LOSS: 2.3049111366271973\n",
            "EPOCH: 1 BATCH: 600 LOSS: 0.33256787061691284\n",
            "EPOCH: 1 BATCH: 1200 LOSS: 0.41023820638656616\n",
            "EPOCH: 1 BATCH: 1800 LOSS: 0.23465153574943542\n",
            "EPOCH: 1 BATCH: 2400 LOSS: 0.08282827585935593\n",
            "EPOCH: 1 BATCH: 3000 LOSS: 0.0022935953456908464\n",
            "EPOCH: 1 BATCH: 3600 LOSS: 0.07156457751989365\n",
            "EPOCH: 1 BATCH: 4200 LOSS: 0.011699063703417778\n",
            "EPOCH: 1 BATCH: 4800 LOSS: 0.005803934298455715\n",
            "EPOCH: 1 BATCH: 5400 LOSS: 0.003200320992618799\n",
            "EPOCH: 2 BATCH: 0 LOSS: 0.0023459128569811583\n",
            "EPOCH: 2 BATCH: 600 LOSS: 0.058511167764663696\n",
            "EPOCH: 2 BATCH: 1200 LOSS: 0.13451078534126282\n",
            "EPOCH: 2 BATCH: 1800 LOSS: 0.000657163851428777\n",
            "EPOCH: 2 BATCH: 2400 LOSS: 0.0007287781918421388\n",
            "EPOCH: 2 BATCH: 3000 LOSS: 0.0041693635284900665\n",
            "EPOCH: 2 BATCH: 3600 LOSS: 0.003650097642093897\n",
            "EPOCH: 2 BATCH: 4200 LOSS: 0.014096550643444061\n",
            "EPOCH: 2 BATCH: 4800 LOSS: 0.001528836553916335\n",
            "EPOCH: 2 BATCH: 5400 LOSS: 0.027681056410074234\n",
            "EPOCH: 3 BATCH: 0 LOSS: 0.0008485809084959328\n",
            "EPOCH: 3 BATCH: 600 LOSS: 0.008475767448544502\n",
            "EPOCH: 3 BATCH: 1200 LOSS: 0.005170049145817757\n",
            "EPOCH: 3 BATCH: 1800 LOSS: 0.5646225810050964\n",
            "EPOCH: 3 BATCH: 2400 LOSS: 0.014375073835253716\n",
            "EPOCH: 3 BATCH: 3000 LOSS: 0.0018624361837282777\n",
            "EPOCH: 3 BATCH: 3600 LOSS: 0.14604368805885315\n",
            "EPOCH: 3 BATCH: 4200 LOSS: 0.0014966547023504972\n",
            "EPOCH: 3 BATCH: 4800 LOSS: 0.002676934702321887\n",
            "EPOCH: 3 BATCH: 5400 LOSS: 0.016198718920350075\n",
            "EPOCH: 4 BATCH: 0 LOSS: 0.003303626086562872\n",
            "EPOCH: 4 BATCH: 600 LOSS: 0.00022866946528665721\n",
            "EPOCH: 4 BATCH: 1200 LOSS: 0.1807922124862671\n",
            "EPOCH: 4 BATCH: 1800 LOSS: 0.009213265031576157\n",
            "EPOCH: 4 BATCH: 2400 LOSS: 0.00012200816854601726\n",
            "EPOCH: 4 BATCH: 3000 LOSS: 0.022398214787244797\n",
            "EPOCH: 4 BATCH: 3600 LOSS: 0.00010836325964191929\n",
            "EPOCH: 4 BATCH: 4200 LOSS: 0.11588843166828156\n",
            "EPOCH: 4 BATCH: 4800 LOSS: 0.0005911762709729373\n",
            "EPOCH: 4 BATCH: 5400 LOSS: 0.011919998563826084\n",
            "EPOCH: 5 BATCH: 0 LOSS: 0.0001570406457176432\n",
            "EPOCH: 5 BATCH: 600 LOSS: 0.00018400071712676436\n",
            "EPOCH: 5 BATCH: 1200 LOSS: 0.2519540786743164\n",
            "EPOCH: 5 BATCH: 1800 LOSS: 0.007505057845264673\n",
            "EPOCH: 5 BATCH: 2400 LOSS: 0.7674010992050171\n",
            "EPOCH: 5 BATCH: 3000 LOSS: 0.00012097137368982658\n",
            "EPOCH: 5 BATCH: 3600 LOSS: 0.0020979896653443575\n",
            "EPOCH: 5 BATCH: 4200 LOSS: 4.860698390984908e-05\n",
            "EPOCH: 5 BATCH: 4800 LOSS: 0.06611578166484833\n",
            "EPOCH: 5 BATCH: 5400 LOSS: 0.08612339198589325\n",
            "Training took 3.214725613594055 minutes\n"
          ]
        }
      ]
    },
    {
      "cell_type": "markdown",
      "source": [
        "## Model Evaluation"
      ],
      "metadata": {
        "id": "z_tx7QIiXYxm"
      },
      "id": "z_tx7QIiXYxm"
    },
    {
      "cell_type": "markdown",
      "source": [
        "### LOSS"
      ],
      "metadata": {
        "id": "AGASsWU2ZXJe"
      },
      "id": "AGASsWU2ZXJe"
    },
    {
      "cell_type": "code",
      "source": [
        "plt.plot(torch.Tensor(train_losses), label=\"Train Loss\")\n",
        "plt.plot(torch.Tensor(test_losses), label=\"Validation Loss\")\n",
        "plt.legend()\n",
        "plt.xlabel(\"Epoch\")\n",
        "plt.ylabel(\"Loss\")\n",
        "plt.title(\"LOSS AT EPOCH\")"
      ],
      "metadata": {
        "colab": {
          "base_uri": "https://localhost:8080/",
          "height": 489
        },
        "id": "fARu6AlNXb4d",
        "outputId": "15014b63-1d93-4915-ca37-df39fe1032ff"
      },
      "id": "fARu6AlNXb4d",
      "execution_count": 43,
      "outputs": [
        {
          "output_type": "execute_result",
          "data": {
            "text/plain": [
              "Text(0.5, 1.0, 'LOSS AT EPOCH')"
            ]
          },
          "metadata": {},
          "execution_count": 43
        },
        {
          "output_type": "display_data",
          "data": {
            "text/plain": [
              "<Figure size 640x480 with 1 Axes>"
            ],
            "image/png": "[encoded data removed]"
          },
          "metadata": {}
        }
      ]
    },
    {
      "cell_type": "markdown",
      "source": [
        "## ACCURACY"
      ],
      "metadata": {
        "id": "UdCicuAUZa6V"
      },
      "id": "UdCicuAUZa6V"
    },
    {
      "cell_type": "code",
      "source": [
        "train_correct"
      ],
      "metadata": {
        "colab": {
          "base_uri": "https://localhost:8080/"
        },
        "id": "zoTOzrbnZdif",
        "outputId": "2e1823b4-a351-48bf-a6e1-1c20d805d556"
      },
      "id": "zoTOzrbnZdif",
      "execution_count": 39,
      "outputs": [
        {
          "output_type": "execute_result",
          "data": {
            "text/plain": [
              "[tensor(56392), tensor(58830), tensor(59158), tensor(59299), tensor(59457)]"
            ]
          },
          "metadata": {},
          "execution_count": 39
        }
      ]
    },
    {
      "cell_type": "code",
      "source": [
        "plt.plot([t/600 for t in train_correct], label=\"Training Accuracy\")\n",
        "plt.plot([t/100 for t in test_correct], label=\"Validation Accuracy\")\n",
        "plt.title(\"Accuracy At End of Epochs\")\n",
        "plt.xlabel(\"Epochs\")\n",
        "plt.ylabel(\"Accuracy\")\n",
        "plt.legend()"
      ],
      "metadata": {
        "colab": {
          "base_uri": "https://localhost:8080/",
          "height": 489
        },
        "id": "8FtiXrjcZnz7",
        "outputId": "004b9134-57c7-4ad0-9c9e-146bbc1e08b7"
      },
      "id": "8FtiXrjcZnz7",
      "execution_count": 44,
      "outputs": [
        {
          "output_type": "execute_result",
          "data": {
            "text/plain": [
              "<matplotlib.legend.Legend at 0x7f0cabbffb50>"
            ]
          },
          "metadata": {},
          "execution_count": 44
        },
        {
          "output_type": "display_data",
          "data": {
            "text/plain": [
              "<Figure size 640x480 with 1 Axes>"
            ],
            "image/png": "[encoded data removed]"
          },
          "metadata": {}
        }
      ]
    },
    {
      "cell_type": "markdown",
      "source": [
        "## Evaluate All test"
      ],
      "metadata": {
        "id": "aF7aCx1Zg-3s"
      },
      "id": "aF7aCx1Zg-3s"
    },
    {
      "cell_type": "code",
      "source": [
        "test_load_all = DataLoader(test_data, batch_size=10000, shuffle=False)"
      ],
      "metadata": {
        "id": "D5T5a0MnawAd"
      },
      "id": "D5T5a0MnawAd",
      "execution_count": 45,
      "outputs": []
    },
    {
      "cell_type": "code",
      "source": [
        "with torch.no_grad():\n",
        "  correct = 0\n",
        "  for X_test, y_test in test_load_all:\n",
        "    y_val = model(X_test)\n",
        "    predicted = torch.max(y_val,1)[1]\n",
        "    correct += (predicted == y_test).sum()"
      ],
      "metadata": {
        "id": "y6qK-SFGhKew"
      },
      "id": "y6qK-SFGhKew",
      "execution_count": 46,
      "outputs": []
    },
    {
      "cell_type": "code",
      "source": [
        "correct.item()"
      ],
      "metadata": {
        "colab": {
          "base_uri": "https://localhost:8080/"
        },
        "id": "SKQHqeEUiKNA",
        "outputId": "ab4b1944-4f1a-43d0-e0f7-f85b174148f5"
      },
      "id": "SKQHqeEUiKNA",
      "execution_count": 47,
      "outputs": [
        {
          "output_type": "execute_result",
          "data": {
            "text/plain": [
              "9870"
            ]
          },
          "metadata": {},
          "execution_count": 47
        }
      ]
    },
    {
      "cell_type": "code",
      "source": [
        "correct.item()/len(X_test)"
      ],
      "metadata": {
        "colab": {
          "base_uri": "https://localhost:8080/"
        },
        "id": "-bCLjxHuiPak",
        "outputId": "06529b25-02b0-460c-f12c-9edb76f0c4ea"
      },
      "id": "-bCLjxHuiPak",
      "execution_count": 48,
      "outputs": [
        {
          "output_type": "execute_result",
          "data": {
            "text/plain": [
              "0.987"
            ]
          },
          "metadata": {},
          "execution_count": 48
        }
      ]
    }
  ],
  "metadata": {
    "kernelspec": {
      "display_name": "Python 3 (ipykernel)",
      "language": "python",
      "name": "python3"
    },
    "language_info": {
      "codemirror_mode": {
        "name": "ipython",
        "version": 3
      },
      "file_extension": ".py",
      "mimetype": "text/x-python",
      "name": "python",
      "nbconvert_exporter": "python",
      "pygments_lexer": "ipython3",
      "version": "3.9.12"
    },
    "colab": {
      "provenance": []
    }
  },
  "nbformat": 4,
  "nbformat_minor": 5
}