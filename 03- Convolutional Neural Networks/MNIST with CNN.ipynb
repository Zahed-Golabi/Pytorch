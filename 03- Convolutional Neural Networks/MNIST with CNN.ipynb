{
  "cells": [
    {
      "cell_type": "markdown",
      "id": "f75223fc",
      "metadata": {
        "id": "f75223fc"
      },
      "source": [
        "# MNIST with CNN"
      ]
    },
    {
      "cell_type": "code",
      "execution_count": null,
      "id": "caf148e5",
      "metadata": {
        "id": "caf148e5"
      },
      "outputs": [],
      "source": [
        "import numpy as np\n",
        "import pandas as pd\n",
        "import matplotlib.pyplot as plt\n",
        "%matplotlib inline"
      ]
    },
    {
      "cell_type": "code",
      "execution_count": 1,
      "id": "c1294f54",
      "metadata": {
        "id": "c1294f54"
      },
      "outputs": [],
      "source": [
        "import torch\n",
        "import torch.nn as nn\n",
        "import torch.nn.functional as F\n",
        "from torch.utils.data import DataLoader\n",
        "from torchvision import datasets, transforms\n",
        "from torchvision.utils import make_grid"
      ]
    },
    {
      "cell_type": "markdown",
      "source": [
        "## Load Dataset"
      ],
      "metadata": {
        "id": "dmR5-TBDI5Vh"
      },
      "id": "dmR5-TBDI5Vh"
    },
    {
      "cell_type": "code",
      "execution_count": 2,
      "id": "4931f426",
      "metadata": {
        "id": "4931f426"
      },
      "outputs": [],
      "source": [
        "transform = transforms.ToTensor()"
      ]
    },
    {
      "cell_type": "code",
      "execution_count": 3,
      "id": "d2f766b7",
      "metadata": {
        "colab": {
          "base_uri": "https://localhost:8080/"
        },
        "id": "d2f766b7",
        "outputId": "953d4a2a-632c-42f1-c76a-3236edcac59c"
      },
      "outputs": [
        {
          "output_type": "stream",
          "name": "stdout",
          "text": [
            "Downloading http://yann.lecun.com/exdb/mnist/train-images-idx3-ubyte.gz\n",
            "Downloading http://yann.lecun.com/exdb/mnist/train-images-idx3-ubyte.gz to /Dataset/MNIST/raw/train-images-idx3-ubyte.gz\n"
          ]
        },
        {
          "output_type": "stream",
          "name": "stderr",
          "text": [
            "100%|██████████| 9912422/9912422 [00:00<00:00, 91931018.63it/s]\n"
          ]
        },
        {
          "output_type": "stream",
          "name": "stdout",
          "text": [
            "Extracting /Dataset/MNIST/raw/train-images-idx3-ubyte.gz to /Dataset/MNIST/raw\n",
            "\n",
            "Downloading http://yann.lecun.com/exdb/mnist/train-labels-idx1-ubyte.gz\n",
            "Downloading http://yann.lecun.com/exdb/mnist/train-labels-idx1-ubyte.gz to /Dataset/MNIST/raw/train-labels-idx1-ubyte.gz\n"
          ]
        },
        {
          "output_type": "stream",
          "name": "stderr",
          "text": [
            "100%|██████████| 28881/28881 [00:00<00:00, 31785802.63it/s]\n"
          ]
        },
        {
          "output_type": "stream",
          "name": "stdout",
          "text": [
            "Extracting /Dataset/MNIST/raw/train-labels-idx1-ubyte.gz to /Dataset/MNIST/raw\n",
            "\n",
            "Downloading http://yann.lecun.com/exdb/mnist/t10k-images-idx3-ubyte.gz\n",
            "Downloading http://yann.lecun.com/exdb/mnist/t10k-images-idx3-ubyte.gz to /Dataset/MNIST/raw/t10k-images-idx3-ubyte.gz\n"
          ]
        },
        {
          "output_type": "stream",
          "name": "stderr",
          "text": [
            "100%|██████████| 1648877/1648877 [00:00<00:00, 24930935.60it/s]\n"
          ]
        },
        {
          "output_type": "stream",
          "name": "stdout",
          "text": [
            "Extracting /Dataset/MNIST/raw/t10k-images-idx3-ubyte.gz to /Dataset/MNIST/raw\n",
            "\n",
            "Downloading http://yann.lecun.com/exdb/mnist/t10k-labels-idx1-ubyte.gz\n",
            "Downloading http://yann.lecun.com/exdb/mnist/t10k-labels-idx1-ubyte.gz to /Dataset/MNIST/raw/t10k-labels-idx1-ubyte.gz\n"
          ]
        },
        {
          "output_type": "stream",
          "name": "stderr",
          "text": [
            "100%|██████████| 4542/4542 [00:00<00:00, 3882316.85it/s]"
          ]
        },
        {
          "output_type": "stream",
          "name": "stdout",
          "text": [
            "Extracting /Dataset/MNIST/raw/t10k-labels-idx1-ubyte.gz to /Dataset/MNIST/raw\n",
            "\n"
          ]
        },
        {
          "output_type": "stream",
          "name": "stderr",
          "text": [
            "\n"
          ]
        }
      ],
      "source": [
        "train_data = datasets.MNIST(root=\"/Dataset\", train=True, download=True, transform=transform)"
      ]
    },
    {
      "cell_type": "code",
      "execution_count": 4,
      "id": "a555f899",
      "metadata": {
        "id": "a555f899"
      },
      "outputs": [],
      "source": [
        "test_data = datasets.MNIST(root=\"/Dataset\", train=False, download=True, transform=transform)"
      ]
    },
    {
      "cell_type": "code",
      "execution_count": 5,
      "id": "a7ef2a4a",
      "metadata": {
        "colab": {
          "base_uri": "https://localhost:8080/"
        },
        "id": "a7ef2a4a",
        "outputId": "2369db9a-98b0-4688-b74e-b49f1158f813"
      },
      "outputs": [
        {
          "output_type": "execute_result",
          "data": {
            "text/plain": [
              "Dataset MNIST\n",
              "    Number of datapoints: 60000\n",
              "    Root location: /Dataset\n",
              "    Split: Train\n",
              "    StandardTransform\n",
              "Transform: ToTensor()"
            ]
          },
          "metadata": {},
          "execution_count": 5
        }
      ],
      "source": [
        "train_data"
      ]
    },
    {
      "cell_type": "code",
      "source": [
        "test_data"
      ],
      "metadata": {
        "colab": {
          "base_uri": "https://localhost:8080/"
        },
        "id": "5W2b-P1lKITm",
        "outputId": "19bc33dc-fe93-4b8c-aaaf-ada82268851a"
      },
      "id": "5W2b-P1lKITm",
      "execution_count": 6,
      "outputs": [
        {
          "output_type": "execute_result",
          "data": {
            "text/plain": [
              "Dataset MNIST\n",
              "    Number of datapoints: 10000\n",
              "    Root location: /Dataset\n",
              "    Split: Test\n",
              "    StandardTransform\n",
              "Transform: ToTensor()"
            ]
          },
          "metadata": {},
          "execution_count": 6
        }
      ]
    },
    {
      "cell_type": "code",
      "source": [
        "train_loader = DataLoader(train_data, batch_size=10, shuffle=True)"
      ],
      "metadata": {
        "id": "7njjCpMLKKP6"
      },
      "id": "7njjCpMLKKP6",
      "execution_count": 7,
      "outputs": []
    },
    {
      "cell_type": "code",
      "source": [
        "test_loader = DataLoader(test_data, batch_size=10, shuffle=False)"
      ],
      "metadata": {
        "id": "4srRDCbNKdos"
      },
      "id": "4srRDCbNKdos",
      "execution_count": 8,
      "outputs": []
    },
    {
      "cell_type": "markdown",
      "source": [
        "## Define Model"
      ],
      "metadata": {
        "id": "FwlftF6PLQeG"
      },
      "id": "FwlftF6PLQeG"
    },
    {
      "cell_type": "code",
      "source": [
        "# 1 COLOR CHANNE, 6 FILTERS (OUTPUT CHANNELS), 3*3 KERNEL, STRIDE=1\n",
        "conv1 = nn.Conv2d(1,6,3,1)   # ----> 6 filters, ---> pooling ---> conv2\n",
        "\n",
        "# 6 Input Filters Conv1, 16 filters, 3*3, stride=1\n",
        "conv2 = nn.Conv2d(6,16,3,1)"
      ],
      "metadata": {
        "id": "3iuuJyLeKqhh"
      },
      "id": "3iuuJyLeKqhh",
      "execution_count": 9,
      "outputs": []
    },
    {
      "cell_type": "code",
      "source": [
        "# First batch\n",
        "for b,(X_train, y_train) in enumerate(train_data):\n",
        "  break"
      ],
      "metadata": {
        "id": "WLJFwhciOOQr"
      },
      "id": "WLJFwhciOOQr",
      "execution_count": 10,
      "outputs": []
    },
    {
      "cell_type": "code",
      "source": [
        "X_train.shape"
      ],
      "metadata": {
        "id": "lZPvU5u0O_Eq",
        "outputId": "8d6616f4-3d78-4195-9e9e-6abd9ebaa06b",
        "colab": {
          "base_uri": "https://localhost:8080/"
        }
      },
      "id": "lZPvU5u0O_Eq",
      "execution_count": 11,
      "outputs": [
        {
          "output_type": "execute_result",
          "data": {
            "text/plain": [
              "torch.Size([1, 28, 28])"
            ]
          },
          "metadata": {},
          "execution_count": 11
        }
      ]
    },
    {
      "cell_type": "code",
      "source": [
        "y_train"
      ],
      "metadata": {
        "id": "NCD7kQPQPBIW",
        "outputId": "99c67f3e-84a0-4504-eb53-40111a1b9fce",
        "colab": {
          "base_uri": "https://localhost:8080/"
        }
      },
      "id": "NCD7kQPQPBIW",
      "execution_count": 12,
      "outputs": [
        {
          "output_type": "execute_result",
          "data": {
            "text/plain": [
              "5"
            ]
          },
          "metadata": {},
          "execution_count": 12
        }
      ]
    },
    {
      "cell_type": "code",
      "source": [
        "x = X_train.view(1,1,28,28)  # ----> 4d batch (batch of 1 image)"
      ],
      "metadata": {
        "id": "s8b-AU2AQFh9"
      },
      "id": "s8b-AU2AQFh9",
      "execution_count": 13,
      "outputs": []
    },
    {
      "cell_type": "code",
      "source": [
        "x = F.relu(conv1(x))"
      ],
      "metadata": {
        "id": "ba7Ja5o7RxXz"
      },
      "id": "ba7Ja5o7RxXz",
      "execution_count": 14,
      "outputs": []
    },
    {
      "cell_type": "code",
      "source": [
        "x.shape"
      ],
      "metadata": {
        "id": "u3aVEhMKSHWY",
        "outputId": "63e6e0dd-2bd7-4691-9e5f-9904dc586daa",
        "colab": {
          "base_uri": "https://localhost:8080/"
        }
      },
      "id": "u3aVEhMKSHWY",
      "execution_count": 15,
      "outputs": [
        {
          "output_type": "execute_result",
          "data": {
            "text/plain": [
              "torch.Size([1, 6, 26, 26])"
            ]
          },
          "metadata": {},
          "execution_count": 15
        }
      ]
    },
    {
      "cell_type": "code",
      "source": [
        "x = F.max_pool2d(x,2,2)"
      ],
      "metadata": {
        "id": "rS3oZb69SrGb"
      },
      "id": "rS3oZb69SrGb",
      "execution_count": 16,
      "outputs": []
    },
    {
      "cell_type": "code",
      "source": [
        "x.shape"
      ],
      "metadata": {
        "id": "gljiHXNgWjrx",
        "outputId": "ce20e0c4-e3bc-47fa-a5c8-cbb219d3c6ca",
        "colab": {
          "base_uri": "https://localhost:8080/"
        }
      },
      "id": "gljiHXNgWjrx",
      "execution_count": 17,
      "outputs": [
        {
          "output_type": "execute_result",
          "data": {
            "text/plain": [
              "torch.Size([1, 6, 13, 13])"
            ]
          },
          "metadata": {},
          "execution_count": 17
        }
      ]
    },
    {
      "cell_type": "code",
      "source": [
        "x = F.relu(conv2(x))"
      ],
      "metadata": {
        "id": "fUEQIro5W0Me"
      },
      "id": "fUEQIro5W0Me",
      "execution_count": 18,
      "outputs": []
    },
    {
      "cell_type": "code",
      "source": [
        "x.shape"
      ],
      "metadata": {
        "id": "N5vZ91zNXPqx",
        "outputId": "3388ebaa-4bbb-4aa5-d5ba-6c82463e5f96",
        "colab": {
          "base_uri": "https://localhost:8080/"
        }
      },
      "id": "N5vZ91zNXPqx",
      "execution_count": 19,
      "outputs": [
        {
          "output_type": "execute_result",
          "data": {
            "text/plain": [
              "torch.Size([1, 16, 11, 11])"
            ]
          },
          "metadata": {},
          "execution_count": 19
        }
      ]
    },
    {
      "cell_type": "code",
      "source": [
        "x = F.max_pool2d(x,2,2)"
      ],
      "metadata": {
        "id": "GvVehBXlXb2h"
      },
      "id": "GvVehBXlXb2h",
      "execution_count": 20,
      "outputs": []
    },
    {
      "cell_type": "code",
      "source": [
        "x.shape"
      ],
      "metadata": {
        "id": "EVeFJRAsXmMu",
        "outputId": "30675359-f16f-420c-b2de-b47ff9d1123d",
        "colab": {
          "base_uri": "https://localhost:8080/"
        }
      },
      "id": "EVeFJRAsXmMu",
      "execution_count": 21,
      "outputs": [
        {
          "output_type": "execute_result",
          "data": {
            "text/plain": [
              "torch.Size([1, 16, 5, 5])"
            ]
          },
          "metadata": {},
          "execution_count": 21
        }
      ]
    },
    {
      "cell_type": "code",
      "source": [
        "x.view(-1,16*5*5).shape"
      ],
      "metadata": {
        "id": "rf9HtHHgXoTX",
        "outputId": "bbab2c1e-27a3-4509-f07b-388ef4520d53",
        "colab": {
          "base_uri": "https://localhost:8080/"
        }
      },
      "id": "rf9HtHHgXoTX",
      "execution_count": 22,
      "outputs": [
        {
          "output_type": "execute_result",
          "data": {
            "text/plain": [
              "torch.Size([1, 400])"
            ]
          },
          "metadata": {},
          "execution_count": 22
        }
      ]
    },
    {
      "cell_type": "code",
      "source": [
        "x.shape"
      ],
      "metadata": {
        "id": "js2r_WSKYjF2",
        "outputId": "adcb5352-3014-46bc-d6c8-b34cd126bfae",
        "colab": {
          "base_uri": "https://localhost:8080/"
        }
      },
      "id": "js2r_WSKYjF2",
      "execution_count": 23,
      "outputs": [
        {
          "output_type": "execute_result",
          "data": {
            "text/plain": [
              "torch.Size([1, 16, 5, 5])"
            ]
          },
          "metadata": {},
          "execution_count": 23
        }
      ]
    },
    {
      "cell_type": "markdown",
      "source": [
        "## Convolutional Neural Network Class"
      ],
      "metadata": {
        "id": "Xjeh_UwpMPf6"
      },
      "id": "Xjeh_UwpMPf6"
    },
    {
      "cell_type": "code",
      "source": [
        "class ConvolutionalNeuralNetwork(nn.Module):\n",
        "\n",
        "  def __init__(self):\n",
        "    super().__init__()\n",
        "    self.conv1 = nn.Conv2d(1, 6, 3, 1)\n",
        "    self.conv2 = nn.Conv2d(6, 16, 3, 1)\n",
        "    self.fc1 = nn.Linear(5*5*16, 120)\n",
        "    self.fc2 = nn.Linear(120, 84)\n",
        "    self.fc3 = nn.Linear(84, 10)\n",
        "\n",
        "  def forward(self, X):\n",
        "    X = F.relu(self.conv1(X))\n",
        "    X = F.max_pool2d(X, 2, 2)\n",
        "    X = F.relu(self.conv2(X))\n",
        "    X = F.max_pool2d(X, 2, 2)\n",
        "    X = X.view(-1, 16*5*5)       # Flatten output\n",
        "    X = F.relu(self.fc1(X))\n",
        "    X = F.relu(self.fc2(X))\n",
        "    X = self.fc3(X)\n",
        "    return F.log_softmax(X, dim=1)\n",
        "\n"
      ],
      "metadata": {
        "id": "BTsoV1cFYm8P"
      },
      "id": "BTsoV1cFYm8P",
      "execution_count": 24,
      "outputs": []
    },
    {
      "cell_type": "markdown",
      "source": [
        "## Create Model"
      ],
      "metadata": {
        "id": "dPYN9dSTQRDl"
      },
      "id": "dPYN9dSTQRDl"
    },
    {
      "cell_type": "code",
      "source": [
        "model = ConvolutionalNeuralNetwork()"
      ],
      "metadata": {
        "id": "iP6qRbYqQDin"
      },
      "id": "iP6qRbYqQDin",
      "execution_count": 25,
      "outputs": []
    },
    {
      "cell_type": "code",
      "source": [
        "model"
      ],
      "metadata": {
        "colab": {
          "base_uri": "https://localhost:8080/"
        },
        "id": "I2fZzqdsQaEC",
        "outputId": "d3fc01d7-5300-43b2-a159-2879707c56bb"
      },
      "id": "I2fZzqdsQaEC",
      "execution_count": 26,
      "outputs": [
        {
          "output_type": "execute_result",
          "data": {
            "text/plain": [
              "ConvolutionalNeuralNetwork(\n",
              "  (conv1): Conv2d(1, 6, kernel_size=(3, 3), stride=(1, 1))\n",
              "  (conv2): Conv2d(6, 16, kernel_size=(3, 3), stride=(1, 1))\n",
              "  (fc1): Linear(in_features=400, out_features=120, bias=True)\n",
              "  (fc2): Linear(in_features=120, out_features=84, bias=True)\n",
              "  (fc3): Linear(in_features=84, out_features=10, bias=True)\n",
              ")"
            ]
          },
          "metadata": {},
          "execution_count": 26
        }
      ]
    },
    {
      "cell_type": "code",
      "source": [
        "for param in model.parameters():\n",
        "  print(param.numel())"
      ],
      "metadata": {
        "colab": {
          "base_uri": "https://localhost:8080/"
        },
        "id": "WK_MGTn0QoJ0",
        "outputId": "8a2e3df4-cb0d-4153-9099-341cad023528"
      },
      "id": "WK_MGTn0QoJ0",
      "execution_count": 27,
      "outputs": [
        {
          "output_type": "stream",
          "name": "stdout",
          "text": [
            "54\n",
            "6\n",
            "864\n",
            "16\n",
            "48000\n",
            "120\n",
            "10080\n",
            "84\n",
            "840\n",
            "10\n"
          ]
        }
      ]
    },
    {
      "cell_type": "markdown",
      "source": [
        "## Optimizer"
      ],
      "metadata": {
        "id": "0cwtZo98RfpQ"
      },
      "id": "0cwtZo98RfpQ"
    },
    {
      "cell_type": "code",
      "source": [
        "criterion = nn.CrossEntropyLoss()\n",
        "optimizer = torch.optim.Adam(model.parameters(), lr=0.001)"
      ],
      "metadata": {
        "id": "D3f03sSPQ9f3"
      },
      "id": "D3f03sSPQ9f3",
      "execution_count": 28,
      "outputs": []
    },
    {
      "cell_type": "markdown",
      "source": [
        "## Train Model"
      ],
      "metadata": {
        "id": "xovRxLsERyAJ"
      },
      "id": "xovRxLsERyAJ"
    },
    {
      "cell_type": "code",
      "source": [
        "import time\n",
        "\n",
        "start_time = time.time()\n",
        "\n",
        "# Trackers\n",
        "epochs = 5\n",
        "train_losses = []\n",
        "test_losses = []\n",
        "train_correct = []\n",
        "test_correct = []\n",
        "\n",
        "# For Loop Epochs\n",
        "for epoch in range(epochs):\n",
        "\n",
        "  trn_corr = 0\n",
        "  tst_corr = 0\n",
        "\n",
        "  # Train\n",
        "  for btch,(X_train, y_train) in enumerate(train_loader):\n",
        "\n",
        "    # b+=1\n",
        "\n",
        "    y_pred = model(X_train)  # Not Flatten because 2d\n",
        "    loss = criterion(y_pred, y_train)  # One hot encoded\n",
        "\n",
        "    predicted = torch.max(y_pred, 1)[1]\n",
        "    batch_corr = (predicted == y_train).sum()\n",
        "    trn_corr += batch_corr\n",
        "\n",
        "    # backward propagation\n",
        "    optimizer.zero_grad()\n",
        "    loss.backward()\n",
        "    optimizer.step()\n",
        "\n",
        "    if btch%600 == 0:\n",
        "      print(f\"EPOCH: {epoch+1} BATCH: {btch} LOSS: {loss.item()}\")\n",
        "\n",
        "  train_losses.append(loss)\n",
        "  train_correct.append(trn_corr)\n",
        "\n",
        "  # Test\n",
        "  with torch.no_grad():\n",
        "    for btch,(X_test, y_test) in enumerate(test_loader):\n",
        "\n",
        "      y_val = model(X_test)\n",
        "      # loss = criterion(y_val, y_test) no backward propagation needed\n",
        "\n",
        "      predicted = torch.max(y_val, 1)[1]\n",
        "      batch_corr = (predicted == y_test).sum()\n",
        "      tst_corr += batch_corr\n",
        "\n",
        "  loss = criterion(y_val, y_test)\n",
        "  test_losses.append(loss)\n",
        "  test_correct.append(tst_corr)\n",
        "\n",
        "\n",
        "current_time = time.time()\n",
        "total_time = current_time - start_time\n",
        "print(f\"Training took {total_time/60} minutes\")"
      ],
      "metadata": {
        "colab": {
          "base_uri": "https://localhost:8080/"
        },
        "id": "CLFqJJIzQ9eo",
        "outputId": "a8677489-f1e3-4e9f-fc5b-5ae7db32dde4"
      },
      "id": "CLFqJJIzQ9eo",
      "execution_count": 34,
      "outputs": [
        {
          "output_type": "stream",
          "name": "stdout",
          "text": [
            "EPOCH: 1 BATCH: 0 LOSS: 0.0009495875565335155\n",
            "EPOCH: 1 BATCH: 600 LOSS: 0.14716275036334991\n",
            "EPOCH: 1 BATCH: 1200 LOSS: 0.01899706944823265\n",
            "EPOCH: 1 BATCH: 1800 LOSS: 0.0037262968253344297\n",
            "EPOCH: 1 BATCH: 2400 LOSS: 0.008511418476700783\n",
            "EPOCH: 1 BATCH: 3000 LOSS: 0.0066335625015199184\n",
            "EPOCH: 1 BATCH: 3600 LOSS: 0.0006997323944233358\n",
            "EPOCH: 1 BATCH: 4200 LOSS: 0.09299765527248383\n",
            "EPOCH: 1 BATCH: 4800 LOSS: 0.22573161125183105\n",
            "EPOCH: 1 BATCH: 5400 LOSS: 0.0015759197995066643\n",
            "EPOCH: 2 BATCH: 0 LOSS: 0.0004376330762170255\n",
            "EPOCH: 2 BATCH: 600 LOSS: 0.09453371167182922\n",
            "EPOCH: 2 BATCH: 1200 LOSS: 0.000893603079020977\n",
            "EPOCH: 2 BATCH: 1800 LOSS: 0.0003536352014634758\n",
            "EPOCH: 2 BATCH: 2400 LOSS: 0.033165983855724335\n",
            "EPOCH: 2 BATCH: 3000 LOSS: 0.033429745584726334\n",
            "EPOCH: 2 BATCH: 3600 LOSS: 0.0002842629619408399\n",
            "EPOCH: 2 BATCH: 4200 LOSS: 0.10080528259277344\n",
            "EPOCH: 2 BATCH: 4800 LOSS: 0.0013403043849393725\n",
            "EPOCH: 2 BATCH: 5400 LOSS: 0.005271116737276316\n",
            "EPOCH: 3 BATCH: 0 LOSS: 0.00025858153821900487\n",
            "EPOCH: 3 BATCH: 600 LOSS: 0.002471094485372305\n",
            "EPOCH: 3 BATCH: 1200 LOSS: 0.1768585592508316\n",
            "EPOCH: 3 BATCH: 1800 LOSS: 0.009324071928858757\n",
            "EPOCH: 3 BATCH: 2400 LOSS: 0.0005072145722806454\n",
            "EPOCH: 3 BATCH: 3000 LOSS: 6.974350253585726e-05\n",
            "EPOCH: 3 BATCH: 3600 LOSS: 0.00010091466538142413\n",
            "EPOCH: 3 BATCH: 4200 LOSS: 6.324664718704298e-05\n",
            "EPOCH: 3 BATCH: 4800 LOSS: 0.01625334657728672\n",
            "EPOCH: 3 BATCH: 5400 LOSS: 0.0004934744792990386\n",
            "EPOCH: 4 BATCH: 0 LOSS: 0.013829085044562817\n",
            "EPOCH: 4 BATCH: 600 LOSS: 0.000326610344927758\n",
            "EPOCH: 4 BATCH: 1200 LOSS: 0.02099713310599327\n",
            "EPOCH: 4 BATCH: 1800 LOSS: 4.075453762197867e-05\n",
            "EPOCH: 4 BATCH: 2400 LOSS: 0.18368178606033325\n",
            "EPOCH: 4 BATCH: 3000 LOSS: 0.002206104341894388\n",
            "EPOCH: 4 BATCH: 3600 LOSS: 5.1134418754372746e-05\n",
            "EPOCH: 4 BATCH: 4200 LOSS: 0.004411654081195593\n",
            "EPOCH: 4 BATCH: 4800 LOSS: 0.13546715676784515\n",
            "EPOCH: 4 BATCH: 5400 LOSS: 0.0006774888606742024\n",
            "EPOCH: 5 BATCH: 0 LOSS: 0.07747838646173477\n",
            "EPOCH: 5 BATCH: 600 LOSS: 0.010530758649110794\n",
            "EPOCH: 5 BATCH: 1200 LOSS: 0.0018942604074254632\n",
            "EPOCH: 5 BATCH: 1800 LOSS: 0.0005563093000091612\n",
            "EPOCH: 5 BATCH: 2400 LOSS: 0.002544507384300232\n",
            "EPOCH: 5 BATCH: 3000 LOSS: 0.0017916120123118162\n",
            "EPOCH: 5 BATCH: 3600 LOSS: 1.0180188837694004e-05\n",
            "EPOCH: 5 BATCH: 4200 LOSS: 0.02563289739191532\n",
            "EPOCH: 5 BATCH: 4800 LOSS: 1.8369333702139556e-05\n",
            "EPOCH: 5 BATCH: 5400 LOSS: 0.00023393938317894936\n",
            "Training took 3.584729520479838 minutes\n"
          ]
        }
      ]
    }
  ],
  "metadata": {
    "kernelspec": {
      "display_name": "Python 3 (ipykernel)",
      "language": "python",
      "name": "python3"
    },
    "language_info": {
      "codemirror_mode": {
        "name": "ipython",
        "version": 3
      },
      "file_extension": ".py",
      "mimetype": "text/x-python",
      "name": "python",
      "nbconvert_exporter": "python",
      "pygments_lexer": "ipython3",
      "version": "3.9.12"
    },
    "colab": {
      "provenance": []
    }
  },
  "nbformat": 4,
  "nbformat_minor": 5
}