{
 "cells": [
  {
   "cell_type": "markdown",
   "id": "13be88db",
   "metadata": {},
   "source": [
    "# Exercise"
   ]
  },
  {
   "cell_type": "code",
   "execution_count": 1,
   "id": "be78d705",
   "metadata": {},
   "outputs": [],
   "source": [
    "import numpy as np"
   ]
  },
  {
   "cell_type": "code",
   "execution_count": 2,
   "id": "16d00c1c",
   "metadata": {},
   "outputs": [],
   "source": [
    "import torch"
   ]
  },
  {
   "cell_type": "markdown",
   "id": "107f110e",
   "metadata": {},
   "source": [
    "#### Set the random seed"
   ]
  },
  {
   "cell_type": "code",
   "execution_count": 4,
   "id": "e79920b1",
   "metadata": {},
   "outputs": [],
   "source": [
    "np.random.seed(42)"
   ]
  },
  {
   "cell_type": "code",
   "execution_count": 5,
   "id": "f040acda",
   "metadata": {},
   "outputs": [],
   "source": [
    "torch.seed = 42"
   ]
  },
  {
   "cell_type": "markdown",
   "id": "ff792317",
   "metadata": {},
   "source": [
    "#### Create a numpy arr contains 6 random integers"
   ]
  },
  {
   "cell_type": "code",
   "execution_count": 6,
   "id": "cb4da2b3",
   "metadata": {},
   "outputs": [],
   "source": [
    "arr = np.random.randint(low=0, high=5, size=6)"
   ]
  },
  {
   "cell_type": "code",
   "execution_count": 7,
   "id": "dc180f04",
   "metadata": {},
   "outputs": [
    {
     "data": {
      "text/plain": [
       "array([3, 4, 2, 4, 4, 1])"
      ]
     },
     "execution_count": 7,
     "metadata": {},
     "output_type": "execute_result"
    }
   ],
   "source": [
    "arr"
   ]
  },
  {
   "cell_type": "markdown",
   "id": "74bf4340",
   "metadata": {},
   "source": [
    "#### Create a tensor \"x\" from the array above"
   ]
  },
  {
   "cell_type": "code",
   "execution_count": 8,
   "id": "8b6cd05d",
   "metadata": {},
   "outputs": [],
   "source": [
    "x = torch.tensor(arr, dtype=torch.float32)"
   ]
  },
  {
   "cell_type": "code",
   "execution_count": 9,
   "id": "8e11874d",
   "metadata": {},
   "outputs": [
    {
     "data": {
      "text/plain": [
       "tensor([3., 4., 2., 4., 4., 1.])"
      ]
     },
     "execution_count": 9,
     "metadata": {},
     "output_type": "execute_result"
    }
   ],
   "source": [
    "x"
   ]
  },
  {
   "cell_type": "code",
   "execution_count": 10,
   "id": "7af61f00",
   "metadata": {},
   "outputs": [],
   "source": [
    "x = x.type(dtype=torch.int64)"
   ]
  },
  {
   "cell_type": "code",
   "execution_count": 11,
   "id": "bf4b5750",
   "metadata": {},
   "outputs": [
    {
     "data": {
      "text/plain": [
       "torch.int64"
      ]
     },
     "execution_count": 11,
     "metadata": {},
     "output_type": "execute_result"
    }
   ],
   "source": [
    "x.dtype"
   ]
  },
  {
   "cell_type": "markdown",
   "id": "077919a9",
   "metadata": {},
   "source": [
    "#### Reshape x into a 3*2 tensor"
   ]
  },
  {
   "cell_type": "code",
   "execution_count": 13,
   "id": "6b12c901",
   "metadata": {},
   "outputs": [],
   "source": [
    "x = x.reshape(3,2)"
   ]
  },
  {
   "cell_type": "code",
   "execution_count": 14,
   "id": "8ea1d096",
   "metadata": {},
   "outputs": [
    {
     "data": {
      "text/plain": [
       "tensor([[3, 4],\n",
       "        [2, 4],\n",
       "        [4, 1]])"
      ]
     },
     "execution_count": 14,
     "metadata": {},
     "output_type": "execute_result"
    }
   ],
   "source": [
    "x"
   ]
  },
  {
   "cell_type": "markdown",
   "id": "1612eca5",
   "metadata": {},
   "source": [
    "#### Return the right-hand column of tensor x"
   ]
  },
  {
   "cell_type": "code",
   "execution_count": 16,
   "id": "849675d7",
   "metadata": {},
   "outputs": [
    {
     "data": {
      "text/plain": [
       "tensor([[4],\n",
       "        [4],\n",
       "        [1]])"
      ]
     },
     "execution_count": 16,
     "metadata": {},
     "output_type": "execute_result"
    }
   ],
   "source": [
    "x[:,1:]"
   ]
  },
  {
   "cell_type": "markdown",
   "id": "515d12f6",
   "metadata": {},
   "source": [
    "#### Square values of x"
   ]
  },
  {
   "cell_type": "code",
   "execution_count": 17,
   "id": "ca3bb2e7",
   "metadata": {},
   "outputs": [
    {
     "data": {
      "text/plain": [
       "tensor([[ 9, 16],\n",
       "        [ 4, 16],\n",
       "        [16,  1]])"
      ]
     },
     "execution_count": 17,
     "metadata": {},
     "output_type": "execute_result"
    }
   ],
   "source": [
    "x.square()"
   ]
  },
  {
   "cell_type": "code",
   "execution_count": 18,
   "id": "17fbf201",
   "metadata": {},
   "outputs": [
    {
     "data": {
      "text/plain": [
       "tensor([[0.0938, 0.1250],\n",
       "        [0.0625, 0.1250],\n",
       "        [0.1250, 0.0312]])"
      ]
     },
     "execution_count": 18,
     "metadata": {},
     "output_type": "execute_result"
    }
   ],
   "source": []
  },
  {
   "cell_type": "markdown",
   "id": "063e261e",
   "metadata": {},
   "source": [
    "#### Matrix-multiplied"
   ]
  },
  {
   "cell_type": "code",
   "execution_count": 21,
   "id": "8cc7116b",
   "metadata": {},
   "outputs": [],
   "source": [
    "y = torch.randint(low=0, high=5, size=(2,3))"
   ]
  },
  {
   "cell_type": "code",
   "execution_count": 22,
   "id": "2b74f069",
   "metadata": {},
   "outputs": [
    {
     "data": {
      "text/plain": [
       "tensor([[4, 4, 3],\n",
       "        [2, 3, 1]])"
      ]
     },
     "execution_count": 22,
     "metadata": {},
     "output_type": "execute_result"
    }
   ],
   "source": [
    "y"
   ]
  },
  {
   "cell_type": "code",
   "execution_count": 23,
   "id": "cdb67a2a",
   "metadata": {},
   "outputs": [
    {
     "data": {
      "text/plain": [
       "torch.Size([2, 3])"
      ]
     },
     "execution_count": 23,
     "metadata": {},
     "output_type": "execute_result"
    }
   ],
   "source": [
    "y.shape"
   ]
  },
  {
   "cell_type": "code",
   "execution_count": 24,
   "id": "52ad8b09",
   "metadata": {},
   "outputs": [
    {
     "data": {
      "text/plain": [
       "torch.Size([3, 2])"
      ]
     },
     "execution_count": 24,
     "metadata": {},
     "output_type": "execute_result"
    }
   ],
   "source": [
    "x.shape"
   ]
  },
  {
   "cell_type": "code",
   "execution_count": 25,
   "id": "2258bdd5",
   "metadata": {},
   "outputs": [
    {
     "data": {
      "text/plain": [
       "tensor([[20, 24, 13],\n",
       "        [16, 20, 10],\n",
       "        [18, 19, 13]])"
      ]
     },
     "execution_count": 25,
     "metadata": {},
     "output_type": "execute_result"
    }
   ],
   "source": [
    "torch.mm(x,y)"
   ]
  },
  {
   "cell_type": "code",
   "execution_count": 26,
   "id": "54122b05",
   "metadata": {},
   "outputs": [
    {
     "data": {
      "text/plain": [
       "tensor([[32, 35],\n",
       "        [16, 21]])"
      ]
     },
     "execution_count": 26,
     "metadata": {},
     "output_type": "execute_result"
    }
   ],
   "source": [
    "torch.mm(y,x)"
   ]
  },
  {
   "cell_type": "code",
   "execution_count": 27,
   "id": "6d5c0e6d",
   "metadata": {},
   "outputs": [
    {
     "data": {
      "text/plain": [
       "tensor([[20, 24, 13],\n",
       "        [16, 20, 10],\n",
       "        [18, 19, 13]])"
      ]
     },
     "execution_count": 27,
     "metadata": {},
     "output_type": "execute_result"
    }
   ],
   "source": [
    "x.mm(y)"
   ]
  },
  {
   "cell_type": "code",
   "execution_count": 28,
   "id": "68ab146b",
   "metadata": {},
   "outputs": [
    {
     "data": {
      "text/plain": [
       "tensor([[32, 35],\n",
       "        [16, 21]])"
      ]
     },
     "execution_count": 28,
     "metadata": {},
     "output_type": "execute_result"
    }
   ],
   "source": [
    "y.mm(x)"
   ]
  },
  {
   "cell_type": "code",
   "execution_count": 32,
   "id": "7cdf6a0c",
   "metadata": {},
   "outputs": [
    {
     "data": {
      "text/plain": [
       "tensor([[20, 24, 13],\n",
       "        [16, 20, 10],\n",
       "        [18, 19, 13]])"
      ]
     },
     "execution_count": 32,
     "metadata": {},
     "output_type": "execute_result"
    }
   ],
   "source": [
    "torch.matmul(x,y)"
   ]
  },
  {
   "cell_type": "code",
   "execution_count": null,
   "id": "e616bb00",
   "metadata": {},
   "outputs": [],
   "source": [
    "Well Don"
   ]
  }
 ],
 "metadata": {
  "kernelspec": {
   "display_name": "Python 3 (ipykernel)",
   "language": "python",
   "name": "python3"
  },
  "language_info": {
   "codemirror_mode": {
    "name": "ipython",
    "version": 3
   },
   "file_extension": ".py",
   "mimetype": "text/x-python",
   "name": "python",
   "nbconvert_exporter": "python",
   "pygments_lexer": "ipython3",
   "version": "3.9.12"
  }
 },
 "nbformat": 4,
 "nbformat_minor": 5
}
